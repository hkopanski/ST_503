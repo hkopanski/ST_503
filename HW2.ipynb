{
 "cells": [
  {
   "cell_type": "code",
   "execution_count": 1,
   "metadata": {},
   "outputs": [
    {
     "name": "stderr",
     "output_type": "stream",
     "text": [
      "── \u001b[1mAttaching packages\u001b[22m ─────────────────────────────────────── tidyverse 1.3.1 ──\n",
      "\n",
      "\u001b[32m✔\u001b[39m \u001b[34mggplot2\u001b[39m 3.3.6     \u001b[32m✔\u001b[39m \u001b[34mpurrr  \u001b[39m 0.3.4\n",
      "\u001b[32m✔\u001b[39m \u001b[34mtibble \u001b[39m 3.1.7     \u001b[32m✔\u001b[39m \u001b[34mdplyr  \u001b[39m 1.0.9\n",
      "\u001b[32m✔\u001b[39m \u001b[34mtidyr  \u001b[39m 1.2.0     \u001b[32m✔\u001b[39m \u001b[34mstringr\u001b[39m 1.4.0\n",
      "\u001b[32m✔\u001b[39m \u001b[34mreadr  \u001b[39m 2.1.2     \u001b[32m✔\u001b[39m \u001b[34mforcats\u001b[39m 0.5.1\n",
      "\n",
      "── \u001b[1mConflicts\u001b[22m ────────────────────────────────────────── tidyverse_conflicts() ──\n",
      "\u001b[31m✖\u001b[39m \u001b[34mdplyr\u001b[39m::\u001b[32mfilter()\u001b[39m masks \u001b[34mstats\u001b[39m::filter()\n",
      "\u001b[31m✖\u001b[39m \u001b[34mdplyr\u001b[39m::\u001b[32mlag()\u001b[39m    masks \u001b[34mstats\u001b[39m::lag()\n",
      "\n"
     ]
    }
   ],
   "source": [
    "library(faraway)\n",
    "library(tidyverse)"
   ]
  },
  {
   "cell_type": "code",
   "execution_count": 163,
   "metadata": {},
   "outputs": [
    {
     "data": {
      "text/plain": [
       "\n",
       "Call:\n",
       "lm(formula = total ~ 1, data = sat)\n",
       "\n",
       "Residuals:\n",
       "    Min      1Q  Median      3Q     Max \n",
       "-121.92  -68.67  -20.42   66.08  141.08 \n",
       "\n",
       "Coefficients:\n",
       "            Estimate Std. Error t value Pr(>|t|)    \n",
       "(Intercept)   965.92      10.58   91.29   <2e-16 ***\n",
       "---\n",
       "Signif. codes:  0 ‘***’ 0.001 ‘**’ 0.01 ‘*’ 0.05 ‘.’ 0.1 ‘ ’ 1\n",
       "\n",
       "Residual standard error: 74.82 on 49 degrees of freedom\n"
      ]
     },
     "metadata": {},
     "output_type": "display_data"
    },
    {
     "data": {
      "text/plain": [
       "\n",
       "\n",
       "|          | Df|   Sum Sq|  Mean Sq| F value| Pr(>F)|\n",
       "|:---------|--:|--------:|--------:|-------:|------:|\n",
       "|Residuals | 49| 274307.7| 5598.116|      NA|     NA|"
      ]
     },
     "metadata": {},
     "output_type": "display_data"
    }
   ],
   "source": [
    "null_model1 <- lm(total ~ 1, data = sat)\n",
    "summary(null_model1)\n",
    "knitr::kable(anova(null_model1))"
   ]
  },
  {
   "cell_type": "code",
   "execution_count": 164,
   "metadata": {},
   "outputs": [
    {
     "data": {
      "text/plain": [
       "\n",
       "Call:\n",
       "lm(formula = total ~ expend + ratio + salary, data = sat)\n",
       "\n",
       "Residuals:\n",
       "     Min       1Q   Median       3Q      Max \n",
       "-140.911  -46.740   -7.535   47.966  123.329 \n",
       "\n",
       "Coefficients:\n",
       "            Estimate Std. Error t value Pr(>|t|)    \n",
       "(Intercept) 1069.234    110.925   9.639 1.29e-12 ***\n",
       "expend        16.469     22.050   0.747   0.4589    \n",
       "ratio          6.330      6.542   0.968   0.3383    \n",
       "salary        -8.823      4.697  -1.878   0.0667 .  \n",
       "---\n",
       "Signif. codes:  0 ‘***’ 0.001 ‘**’ 0.01 ‘*’ 0.05 ‘.’ 0.1 ‘ ’ 1\n",
       "\n",
       "Residual standard error: 68.65 on 46 degrees of freedom\n",
       "Multiple R-squared:  0.2096,\tAdjusted R-squared:  0.1581 \n",
       "F-statistic: 4.066 on 3 and 46 DF,  p-value: 0.01209\n"
      ]
     },
     "metadata": {},
     "output_type": "display_data"
    },
    {
     "data": {
      "text/plain": [
       "\n",
       "\n",
       "| Res.Df|      RSS| Df| Sum of Sq|        F|    Pr(>F)|\n",
       "|------:|--------:|--:|---------:|--------:|---------:|\n",
       "|     49| 274307.7| NA|        NA|       NA|        NA|\n",
       "|     46| 216811.9|  3|  57495.74| 4.066203| 0.0120861|"
      ]
     },
     "metadata": {},
     "output_type": "display_data"
    },
    {
     "data": {
      "text/plain": [
       "\n",
       "\n",
       "|          | Df|     Sum Sq|   Mean Sq|   F value|    Pr(>F)|\n",
       "|:---------|--:|----------:|---------:|---------:|---------:|\n",
       "|expend    |  1|  39722.059| 39722.059| 8.4276482| 0.0056579|\n",
       "|ratio     |  1|   1142.671|  1142.671| 0.2424354| 0.6247946|\n",
       "|salary    |  1|  16631.014| 16631.014| 3.5285264| 0.0666677|\n",
       "|Residuals | 46| 216811.935|  4713.303|        NA|        NA|"
      ]
     },
     "metadata": {},
     "output_type": "display_data"
    },
    {
     "data": {
      "text/plain": [
       "\n",
       "\n",
       "| df_vector|        SS|        MS|   F_stat|   p_value|\n",
       "|---------:|---------:|---------:|--------:|---------:|\n",
       "|         3|  57495.74| 19165.248| 4.066203| 0.0120861|\n",
       "|        46| 216811.94|  4713.303|       NA|        NA|\n",
       "|        49| 274307.68|        NA|       NA|        NA|"
      ]
     },
     "metadata": {},
     "output_type": "display_data"
    }
   ],
   "source": [
    "sat_model1 <- lm(total ~ expend + ratio + salary, data = sat)\n",
    "summary(sat_model1)\n",
    "knitr::kable(anova(null_model1, sat_model1))\n",
    "knitr::kable(anova(sat_model1))\n",
    "\n",
    "SST <- sum((sat$total - mean(sat$total))^2)\n",
    "SSR <- sum((sat_model1$fitted.values - mean(sat$total))^2)\n",
    "SSE <- sum((sat$total - sat_model1$fitted.values)^2)\n",
    "MSR <- SSR/(sat_model1$rank - 1)\n",
    "MSE <- SSE/(nrow(sat) - sat_model1$rank)\n",
    "df_vector <- c(sat_model1$rank - 1, nrow(sat) - sat_model1$rank, nrow(sat) - 1)\n",
    "SS <- c(SSR, SSE, SST)\n",
    "\n",
    "anova_table <- as_tibble(cbind(df_vector, SS))\n",
    "\n",
    "anova_table <- anova_table %>% mutate(MS = SS/df_vector)\n",
    "\n",
    "anova_table[3,3] <- NA\n",
    "\n",
    "F_stat <- c(as.numeric(anova_table[1,3] / anova_table[2,3]), NA, NA)\n",
    "\n",
    "p_value <- c(1 - (pf(F_stat[1], (sat_model1$rank - 1) , (nrow(sat) - sat_model1$rank))), NA, NA)\n",
    "\n",
    "anova_table <- cbind(anova_table, F_stat, p_value)\n",
    "\n",
    "knitr::kable(anova_table)"
   ]
  },
  {
   "cell_type": "code",
   "execution_count": 166,
   "metadata": {},
   "outputs": [
    {
     "data": {
      "text/plain": [
       "\n",
       "Call:\n",
       "lm(formula = total ~ expend + ratio + salary + takers, data = sat)\n",
       "\n",
       "Residuals:\n",
       "    Min      1Q  Median      3Q     Max \n",
       "-90.531 -20.855  -1.746  15.979  66.571 \n",
       "\n",
       "Coefficients:\n",
       "             Estimate Std. Error t value Pr(>|t|)    \n",
       "(Intercept) 1045.9715    52.8698  19.784  < 2e-16 ***\n",
       "expend         4.4626    10.5465   0.423    0.674    \n",
       "ratio         -3.6242     3.2154  -1.127    0.266    \n",
       "salary         1.6379     2.3872   0.686    0.496    \n",
       "takers        -2.9045     0.2313 -12.559 2.61e-16 ***\n",
       "---\n",
       "Signif. codes:  0 ‘***’ 0.001 ‘**’ 0.01 ‘*’ 0.05 ‘.’ 0.1 ‘ ’ 1\n",
       "\n",
       "Residual standard error: 32.7 on 45 degrees of freedom\n",
       "Multiple R-squared:  0.8246,\tAdjusted R-squared:  0.809 \n",
       "F-statistic: 52.88 on 4 and 45 DF,  p-value: < 2.2e-16\n"
      ]
     },
     "metadata": {},
     "output_type": "display_data"
    },
    {
     "data": {
      "text/plain": [
       "\n",
       "\n",
       "| Res.Df|      RSS| Df| Sum of Sq|        F| Pr(>F)|\n",
       "|------:|--------:|--:|---------:|--------:|------:|\n",
       "|     49| 274307.7| NA|        NA|       NA|     NA|\n",
       "|     45|  48123.9|  4|  226183.8| 52.87534|      0|"
      ]
     },
     "metadata": {},
     "output_type": "display_data"
    },
    {
     "data": {
      "text/plain": [
       "\n",
       "\n",
       "| Res.Df|      RSS| Df| Sum of Sq|        F| Pr(>F)|\n",
       "|------:|--------:|--:|---------:|--------:|------:|\n",
       "|     46| 216811.9| NA|        NA|       NA|     NA|\n",
       "|     45|  48123.9|  1|    168688| 157.7379|      0|"
      ]
     },
     "metadata": {},
     "output_type": "display_data"
    },
    {
     "data": {
      "text/plain": [
       "\n",
       "\n",
       "|          | Df|     Sum Sq|    Mean Sq|    F value|    Pr(>F)|\n",
       "|:---------|--:|----------:|----------:|----------:|---------:|\n",
       "|expend    |  1|  39722.059|  39722.059|  37.143557| 0.0000002|\n",
       "|ratio     |  1|   1142.671|   1142.671|   1.068496| 0.3068088|\n",
       "|salary    |  1|  16631.014|  16631.014|  15.551435| 0.0002779|\n",
       "|takers    |  1| 168688.039| 168688.039| 157.737888| 0.0000000|\n",
       "|Residuals | 45|  48123.896|   1069.420|         NA|        NA|"
      ]
     },
     "metadata": {},
     "output_type": "display_data"
    },
    {
     "data": {
      "text/plain": [
       "\n",
       "\n",
       "| df_vector|       SS|       MS|   F_stat| p_value|\n",
       "|---------:|--------:|--------:|--------:|-------:|\n",
       "|         4| 226183.8| 56545.95| 52.87534|       0|\n",
       "|        45|  48123.9|  1069.42|       NA|      NA|\n",
       "|        49| 274307.7|       NA|       NA|      NA|"
      ]
     },
     "metadata": {},
     "output_type": "display_data"
    }
   ],
   "source": [
    "sat_model2 <- lm(total ~ expend + ratio + salary + takers, data = sat)\n",
    "summary(sat_model2)\n",
    "knitr::kable(anova(null_model1, sat_model2))\n",
    "knitr::kable(anova(sat_model1, sat_model2))\n",
    "knitr::kable(anova(sat_model2))\n",
    "\n",
    "SST <- sum((sat$total - mean(sat$total))^2)\n",
    "SSR <- sum((sat_model2$fitted.values - mean(sat$total))^2)\n",
    "SSE <- sum((sat$total - sat_model2$fitted.values)^2)\n",
    "MSR <- SSR/(sat_model2$rank - 1)\n",
    "MSE <- SSE/(nrow(sat) - sat_model2$rank)\n",
    "df_vector <- c(sat_model2$rank - 1, nrow(sat) - sat_model2$rank, nrow(sat) - 1)\n",
    "SS <- c(SSR, SSE, SST)\n",
    "\n",
    "anova_table <- as_tibble(cbind(df_vector, SS))\n",
    "\n",
    "anova_table <- anova_table %>% mutate(MS = SS/df_vector)\n",
    "\n",
    "anova_table[3,3] <- NA\n",
    "\n",
    "F_stat <- c(as.numeric(anova_table[1,3] / anova_table[2,3]), NA, NA)\n",
    "\n",
    "p_value <- c(1 - (pf(F_stat[1], (sat_model2$rank - 1) , (nrow(sat) - sat_model2$rank))), NA, NA)\n",
    "\n",
    "anova_table <- cbind(anova_table, F_stat, p_value)\n",
    "\n",
    "knitr::kable(anova_table)"
   ]
  },
  {
   "cell_type": "markdown",
   "metadata": {},
   "source": [
    "There is not enough evidence to reject the null hypothesis that $\\beta_{salary}$ is zero. The p value is above the critical value of 0.025."
   ]
  },
  {
   "cell_type": "code",
   "execution_count": 33,
   "metadata": {},
   "outputs": [
    {
     "data": {
      "text/plain": [
       "\n",
       "\n",
       "| Res.Df|      RSS| Df| Sum of Sq|        F| Pr(>F)|\n",
       "|------:|--------:|--:|---------:|--------:|------:|\n",
       "|     46| 216811.9| NA|        NA|       NA|     NA|\n",
       "|     45|  48123.9|  1|    168688| 157.7379|      0|"
      ]
     },
     "metadata": {},
     "output_type": "display_data"
    }
   ],
   "source": [
    "knitr::kable(anova(sat_model1, sat_model2))"
   ]
  },
  {
   "cell_type": "markdown",
   "metadata": {},
   "source": []
  },
  {
   "cell_type": "code",
   "execution_count": 6,
   "metadata": {},
   "outputs": [
    {
     "data": {
      "text/html": [
       "<table class=\"dataframe\">\n",
       "<caption>A data.frame: 6 × 7</caption>\n",
       "<thead>\n",
       "\t<tr><th></th><th scope=col>Distance</th><th scope=col>Hang</th><th scope=col>RStr</th><th scope=col>LStr</th><th scope=col>RFlex</th><th scope=col>LFlex</th><th scope=col>OStr</th></tr>\n",
       "\t<tr><th></th><th scope=col>&lt;dbl&gt;</th><th scope=col>&lt;dbl&gt;</th><th scope=col>&lt;int&gt;</th><th scope=col>&lt;int&gt;</th><th scope=col>&lt;int&gt;</th><th scope=col>&lt;int&gt;</th><th scope=col>&lt;dbl&gt;</th></tr>\n",
       "</thead>\n",
       "<tbody>\n",
       "\t<tr><th scope=row>1</th><td>162.50</td><td>4.75</td><td>170</td><td>170</td><td>106</td><td>106</td><td>240.57</td></tr>\n",
       "\t<tr><th scope=row>2</th><td>144.00</td><td>4.07</td><td>140</td><td>130</td><td> 92</td><td> 93</td><td>195.49</td></tr>\n",
       "\t<tr><th scope=row>3</th><td>147.50</td><td>4.04</td><td>180</td><td>170</td><td> 93</td><td> 78</td><td>152.99</td></tr>\n",
       "\t<tr><th scope=row>4</th><td>163.50</td><td>4.18</td><td>160</td><td>160</td><td>103</td><td> 93</td><td>197.09</td></tr>\n",
       "\t<tr><th scope=row>5</th><td>192.00</td><td>4.35</td><td>170</td><td>150</td><td>104</td><td> 93</td><td>266.56</td></tr>\n",
       "\t<tr><th scope=row>6</th><td>171.75</td><td>4.16</td><td>150</td><td>150</td><td>101</td><td> 87</td><td>260.56</td></tr>\n",
       "</tbody>\n",
       "</table>\n"
      ],
      "text/latex": [
       "A data.frame: 6 × 7\n",
       "\\begin{tabular}{r|lllllll}\n",
       "  & Distance & Hang & RStr & LStr & RFlex & LFlex & OStr\\\\\n",
       "  & <dbl> & <dbl> & <int> & <int> & <int> & <int> & <dbl>\\\\\n",
       "\\hline\n",
       "\t1 & 162.50 & 4.75 & 170 & 170 & 106 & 106 & 240.57\\\\\n",
       "\t2 & 144.00 & 4.07 & 140 & 130 &  92 &  93 & 195.49\\\\\n",
       "\t3 & 147.50 & 4.04 & 180 & 170 &  93 &  78 & 152.99\\\\\n",
       "\t4 & 163.50 & 4.18 & 160 & 160 & 103 &  93 & 197.09\\\\\n",
       "\t5 & 192.00 & 4.35 & 170 & 150 & 104 &  93 & 266.56\\\\\n",
       "\t6 & 171.75 & 4.16 & 150 & 150 & 101 &  87 & 260.56\\\\\n",
       "\\end{tabular}\n"
      ],
      "text/markdown": [
       "\n",
       "A data.frame: 6 × 7\n",
       "\n",
       "| <!--/--> | Distance &lt;dbl&gt; | Hang &lt;dbl&gt; | RStr &lt;int&gt; | LStr &lt;int&gt; | RFlex &lt;int&gt; | LFlex &lt;int&gt; | OStr &lt;dbl&gt; |\n",
       "|---|---|---|---|---|---|---|---|\n",
       "| 1 | 162.50 | 4.75 | 170 | 170 | 106 | 106 | 240.57 |\n",
       "| 2 | 144.00 | 4.07 | 140 | 130 |  92 |  93 | 195.49 |\n",
       "| 3 | 147.50 | 4.04 | 180 | 170 |  93 |  78 | 152.99 |\n",
       "| 4 | 163.50 | 4.18 | 160 | 160 | 103 |  93 | 197.09 |\n",
       "| 5 | 192.00 | 4.35 | 170 | 150 | 104 |  93 | 266.56 |\n",
       "| 6 | 171.75 | 4.16 | 150 | 150 | 101 |  87 | 260.56 |\n",
       "\n"
      ],
      "text/plain": [
       "  Distance Hang RStr LStr RFlex LFlex OStr  \n",
       "1 162.50   4.75 170  170  106   106   240.57\n",
       "2 144.00   4.07 140  130   92    93   195.49\n",
       "3 147.50   4.04 180  170   93    78   152.99\n",
       "4 163.50   4.18 160  160  103    93   197.09\n",
       "5 192.00   4.35 170  150  104    93   266.56\n",
       "6 171.75   4.16 150  150  101    87   260.56"
      ]
     },
     "metadata": {},
     "output_type": "display_data"
    }
   ],
   "source": [
    "#3.7\n",
    "punting %>% head()"
   ]
  },
  {
   "cell_type": "code",
   "execution_count": 231,
   "metadata": {},
   "outputs": [
    {
     "data": {
      "text/plain": [
       "\n",
       "Call:\n",
       "lm(formula = Distance ~ RStr + LStr + RFlex + LFlex, data = punting)\n",
       "\n",
       "Residuals:\n",
       "    Min      1Q  Median      3Q     Max \n",
       "-23.941  -8.958  -4.441  13.523  17.016 \n",
       "\n",
       "Coefficients:\n",
       "            Estimate Std. Error t value Pr(>|t|)\n",
       "(Intercept) -79.6236    65.5935  -1.214    0.259\n",
       "RStr          0.5116     0.4856   1.054    0.323\n",
       "LStr         -0.1862     0.5130  -0.363    0.726\n",
       "RFlex         2.3745     1.4374   1.652    0.137\n",
       "LFlex        -0.5277     0.8255  -0.639    0.541\n",
       "\n",
       "Residual standard error: 16.33 on 8 degrees of freedom\n",
       "Multiple R-squared:  0.7365,\tAdjusted R-squared:  0.6047 \n",
       "F-statistic:  5.59 on 4 and 8 DF,  p-value: 0.01902\n"
      ]
     },
     "metadata": {},
     "output_type": "display_data"
    }
   ],
   "source": [
    "# a)\n",
    "pun_model1 <- lm(Distance ~ RStr + LStr + RFlex + LFlex, data = punting)\n",
    "summary(pun_model1)"
   ]
  },
  {
   "cell_type": "markdown",
   "metadata": {},
   "source": [
    "None of the predictors are signifigant at the 5% level"
   ]
  },
  {
   "cell_type": "code",
   "execution_count": 232,
   "metadata": {},
   "outputs": [
    {
     "data": {
      "text/plain": [
       "\n",
       "Call:\n",
       "lm(formula = Distance ~ 1, data = punting)\n",
       "\n",
       "Residuals:\n",
       "    Min      1Q  Median      3Q     Max \n",
       "-43.303  -7.983   1.937  15.267  43.767 \n",
       "\n",
       "Coefficients:\n",
       "            Estimate Std. Error t value Pr(>|t|)    \n",
       "(Intercept)  148.233      7.203   20.58 9.99e-11 ***\n",
       "---\n",
       "Signif. codes:  0 ‘***’ 0.001 ‘**’ 0.01 ‘*’ 0.05 ‘.’ 0.1 ‘ ’ 1\n",
       "\n",
       "Residual standard error: 25.97 on 12 degrees of freedom\n"
      ]
     },
     "metadata": {},
     "output_type": "display_data"
    },
    {
     "data": {
      "text/html": [
       "<table class=\"dataframe\">\n",
       "<caption>A anova: 2 × 6</caption>\n",
       "<thead>\n",
       "\t<tr><th></th><th scope=col>Res.Df</th><th scope=col>RSS</th><th scope=col>Df</th><th scope=col>Sum of Sq</th><th scope=col>F</th><th scope=col>Pr(&gt;F)</th></tr>\n",
       "\t<tr><th></th><th scope=col>&lt;dbl&gt;</th><th scope=col>&lt;dbl&gt;</th><th scope=col>&lt;dbl&gt;</th><th scope=col>&lt;dbl&gt;</th><th scope=col>&lt;dbl&gt;</th><th scope=col>&lt;dbl&gt;</th></tr>\n",
       "</thead>\n",
       "<tbody>\n",
       "\t<tr><th scope=row>1</th><td>12</td><td>8093.308</td><td>NA</td><td>      NA</td><td>      NA</td><td>        NA</td></tr>\n",
       "\t<tr><th scope=row>2</th><td> 8</td><td>2132.641</td><td> 4</td><td>5960.668</td><td>5.589941</td><td>0.01902482</td></tr>\n",
       "</tbody>\n",
       "</table>\n"
      ],
      "text/latex": [
       "A anova: 2 × 6\n",
       "\\begin{tabular}{r|llllll}\n",
       "  & Res.Df & RSS & Df & Sum of Sq & F & Pr(>F)\\\\\n",
       "  & <dbl> & <dbl> & <dbl> & <dbl> & <dbl> & <dbl>\\\\\n",
       "\\hline\n",
       "\t1 & 12 & 8093.308 & NA &       NA &       NA &         NA\\\\\n",
       "\t2 &  8 & 2132.641 &  4 & 5960.668 & 5.589941 & 0.01902482\\\\\n",
       "\\end{tabular}\n"
      ],
      "text/markdown": [
       "\n",
       "A anova: 2 × 6\n",
       "\n",
       "| <!--/--> | Res.Df &lt;dbl&gt; | RSS &lt;dbl&gt; | Df &lt;dbl&gt; | Sum of Sq &lt;dbl&gt; | F &lt;dbl&gt; | Pr(&gt;F) &lt;dbl&gt; |\n",
       "|---|---|---|---|---|---|---|\n",
       "| 1 | 12 | 8093.308 | NA |       NA |       NA |         NA |\n",
       "| 2 |  8 | 2132.641 |  4 | 5960.668 | 5.589941 | 0.01902482 |\n",
       "\n"
      ],
      "text/plain": [
       "  Res.Df RSS      Df Sum of Sq F        Pr(>F)    \n",
       "1 12     8093.308 NA       NA        NA         NA\n",
       "2  8     2132.641  4 5960.668  5.589941 0.01902482"
      ]
     },
     "metadata": {},
     "output_type": "display_data"
    }
   ],
   "source": [
    "#b)\n",
    "\n",
    "null_model1 <- lm(Distance ~ 1, data = punting)\n",
    "summary(null_model1)\n",
    "anova(null_model1, pun_model1)"
   ]
  },
  {
   "cell_type": "code",
   "execution_count": 233,
   "metadata": {},
   "outputs": [
    {
     "data": {
      "text/plain": [
       "\n",
       "Call:\n",
       "lm(formula = Distance ~ RStr + LStr, data = punting)\n",
       "\n",
       "Residuals:\n",
       "    Min      1Q  Median      3Q     Max \n",
       "-29.280  -9.583   3.147  10.266  26.450 \n",
       "\n",
       "Coefficients:\n",
       "            Estimate Std. Error t value Pr(>|t|)\n",
       "(Intercept)  12.8490    33.0334   0.389    0.705\n",
       "RStr          0.7208     0.4913   1.467    0.173\n",
       "LStr          0.2011     0.4883   0.412    0.689\n",
       "\n",
       "Residual standard error: 17.24 on 10 degrees of freedom\n",
       "Multiple R-squared:  0.6327,\tAdjusted R-squared:  0.5592 \n",
       "F-statistic: 8.611 on 2 and 10 DF,  p-value: 0.00669\n"
      ]
     },
     "metadata": {},
     "output_type": "display_data"
    },
    {
     "data": {
      "text/html": [
       "<table class=\"dataframe\">\n",
       "<caption>A anova: 3 × 5</caption>\n",
       "<thead>\n",
       "\t<tr><th></th><th scope=col>Df</th><th scope=col>Sum Sq</th><th scope=col>Mean Sq</th><th scope=col>F value</th><th scope=col>Pr(&gt;F)</th></tr>\n",
       "\t<tr><th></th><th scope=col>&lt;int&gt;</th><th scope=col>&lt;dbl&gt;</th><th scope=col>&lt;dbl&gt;</th><th scope=col>&lt;dbl&gt;</th><th scope=col>&lt;dbl&gt;</th></tr>\n",
       "</thead>\n",
       "<tbody>\n",
       "\t<tr><th scope=row>RStr</th><td> 1</td><td>5069.80896</td><td>5069.80896</td><td>17.0524211</td><td>0.00204596</td></tr>\n",
       "\t<tr><th scope=row>LStr</th><td> 1</td><td>  50.42669</td><td>  50.42669</td><td> 0.1696114</td><td>0.68914615</td></tr>\n",
       "\t<tr><th scope=row>Residuals</th><td>10</td><td>2973.07282</td><td> 297.30728</td><td>        NA</td><td>        NA</td></tr>\n",
       "</tbody>\n",
       "</table>\n"
      ],
      "text/latex": [
       "A anova: 3 × 5\n",
       "\\begin{tabular}{r|lllll}\n",
       "  & Df & Sum Sq & Mean Sq & F value & Pr(>F)\\\\\n",
       "  & <int> & <dbl> & <dbl> & <dbl> & <dbl>\\\\\n",
       "\\hline\n",
       "\tRStr &  1 & 5069.80896 & 5069.80896 & 17.0524211 & 0.00204596\\\\\n",
       "\tLStr &  1 &   50.42669 &   50.42669 &  0.1696114 & 0.68914615\\\\\n",
       "\tResiduals & 10 & 2973.07282 &  297.30728 &         NA &         NA\\\\\n",
       "\\end{tabular}\n"
      ],
      "text/markdown": [
       "\n",
       "A anova: 3 × 5\n",
       "\n",
       "| <!--/--> | Df &lt;int&gt; | Sum Sq &lt;dbl&gt; | Mean Sq &lt;dbl&gt; | F value &lt;dbl&gt; | Pr(&gt;F) &lt;dbl&gt; |\n",
       "|---|---|---|---|---|---|\n",
       "| RStr |  1 | 5069.80896 | 5069.80896 | 17.0524211 | 0.00204596 |\n",
       "| LStr |  1 |   50.42669 |   50.42669 |  0.1696114 | 0.68914615 |\n",
       "| Residuals | 10 | 2973.07282 |  297.30728 |         NA |         NA |\n",
       "\n"
      ],
      "text/plain": [
       "          Df Sum Sq     Mean Sq    F value    Pr(>F)    \n",
       "RStr       1 5069.80896 5069.80896 17.0524211 0.00204596\n",
       "LStr       1   50.42669   50.42669  0.1696114 0.68914615\n",
       "Residuals 10 2973.07282  297.30728         NA         NA"
      ]
     },
     "metadata": {},
     "output_type": "display_data"
    }
   ],
   "source": [
    "#c)\n",
    "pun_model2 <- lm(Distance ~ RStr + LStr, data = punting)\n",
    "summary(pun_model2)\n",
    "anova(pun_model2)"
   ]
  },
  {
   "cell_type": "code",
   "execution_count": 234,
   "metadata": {},
   "outputs": [
    {
     "data": {
      "text/plain": [
       "\n",
       "\n",
       "| df_vector|       SS|        MS|   F_stat|   p_value|\n",
       "|---------:|--------:|---------:|--------:|---------:|\n",
       "|         2| 5120.236| 2560.1178| 8.611016| 0.0066896|\n",
       "|        10| 2973.073|  297.3073|       NA|        NA|\n",
       "|        12| 8093.308|        NA|       NA|        NA|"
      ]
     },
     "metadata": {},
     "output_type": "display_data"
    }
   ],
   "source": [
    "SST <- sum((punting$Distance - mean(punting$Distance))^2)\n",
    "SSR <- sum((pun_model2$fitted.values - mean(punting$Distance))^2)\n",
    "SSE <- sum((punting$Distance - pun_model2$fitted.values)^2)\n",
    "MSR <- SSR/(pun_model2$rank - 1)\n",
    "MSE <- SSE/(nrow(punting) - pun_model2$rank)\n",
    "df_vector <- c(pun_model2$rank - 1, nrow(punting) - pun_model2$rank, nrow(punting) - 1)\n",
    "SS <- c(SSR, SSE, SST)\n",
    "\n",
    "anova_table <- as_tibble(cbind(df_vector, SS))\n",
    "\n",
    "anova_table <- anova_table %>% mutate(MS = SS/df_vector)\n",
    "\n",
    "anova_table[3,3] <- NA\n",
    "\n",
    "F_stat <- c(as.numeric(anova_table[1,3] / anova_table[2,3]), NA, NA)\n",
    "\n",
    "p_value <- c(1 - (pf(F_stat[1], (pun_model2$rank - 1) , (nrow(punting) - pun_model2$rank))), NA, NA)\n",
    "\n",
    "anova_table <- cbind(anova_table, F_stat, p_value)\n",
    "\n",
    "knitr::kable(anova_table)"
   ]
  },
  {
   "cell_type": "code",
   "execution_count": 235,
   "metadata": {},
   "outputs": [
    {
     "data": {
      "text/html": [
       "<table class=\"dataframe\">\n",
       "<caption>A anova: 5 × 5</caption>\n",
       "<thead>\n",
       "\t<tr><th></th><th scope=col>Df</th><th scope=col>Sum Sq</th><th scope=col>Mean Sq</th><th scope=col>F value</th><th scope=col>Pr(&gt;F)</th></tr>\n",
       "\t<tr><th></th><th scope=col>&lt;int&gt;</th><th scope=col>&lt;dbl&gt;</th><th scope=col>&lt;dbl&gt;</th><th scope=col>&lt;dbl&gt;</th><th scope=col>&lt;dbl&gt;</th></tr>\n",
       "</thead>\n",
       "<tbody>\n",
       "\t<tr><th scope=row>RStr</th><td>1</td><td>5069.80896</td><td>5069.80896</td><td>19.0179581</td><td>0.002409544</td></tr>\n",
       "\t<tr><th scope=row>LStr</th><td>1</td><td>  50.42669</td><td>  50.42669</td><td> 0.1891615</td><td>0.675109657</td></tr>\n",
       "\t<tr><th scope=row>RFlex</th><td>1</td><td> 731.48721</td><td> 731.48721</td><td> 2.7439679</td><td>0.136213140</td></tr>\n",
       "\t<tr><th scope=row>LFlex</th><td>1</td><td> 108.94490</td><td> 108.94490</td><td> 0.4086761</td><td>0.540510899</td></tr>\n",
       "\t<tr><th scope=row>Residuals</th><td>8</td><td>2132.64071</td><td> 266.58009</td><td>        NA</td><td>         NA</td></tr>\n",
       "</tbody>\n",
       "</table>\n"
      ],
      "text/latex": [
       "A anova: 5 × 5\n",
       "\\begin{tabular}{r|lllll}\n",
       "  & Df & Sum Sq & Mean Sq & F value & Pr(>F)\\\\\n",
       "  & <int> & <dbl> & <dbl> & <dbl> & <dbl>\\\\\n",
       "\\hline\n",
       "\tRStr & 1 & 5069.80896 & 5069.80896 & 19.0179581 & 0.002409544\\\\\n",
       "\tLStr & 1 &   50.42669 &   50.42669 &  0.1891615 & 0.675109657\\\\\n",
       "\tRFlex & 1 &  731.48721 &  731.48721 &  2.7439679 & 0.136213140\\\\\n",
       "\tLFlex & 1 &  108.94490 &  108.94490 &  0.4086761 & 0.540510899\\\\\n",
       "\tResiduals & 8 & 2132.64071 &  266.58009 &         NA &          NA\\\\\n",
       "\\end{tabular}\n"
      ],
      "text/markdown": [
       "\n",
       "A anova: 5 × 5\n",
       "\n",
       "| <!--/--> | Df &lt;int&gt; | Sum Sq &lt;dbl&gt; | Mean Sq &lt;dbl&gt; | F value &lt;dbl&gt; | Pr(&gt;F) &lt;dbl&gt; |\n",
       "|---|---|---|---|---|---|\n",
       "| RStr | 1 | 5069.80896 | 5069.80896 | 19.0179581 | 0.002409544 |\n",
       "| LStr | 1 |   50.42669 |   50.42669 |  0.1891615 | 0.675109657 |\n",
       "| RFlex | 1 |  731.48721 |  731.48721 |  2.7439679 | 0.136213140 |\n",
       "| LFlex | 1 |  108.94490 |  108.94490 |  0.4086761 | 0.540510899 |\n",
       "| Residuals | 8 | 2132.64071 |  266.58009 |         NA |          NA |\n",
       "\n"
      ],
      "text/plain": [
       "          Df Sum Sq     Mean Sq    F value    Pr(>F)     \n",
       "RStr      1  5069.80896 5069.80896 19.0179581 0.002409544\n",
       "LStr      1    50.42669   50.42669  0.1891615 0.675109657\n",
       "RFlex     1   731.48721  731.48721  2.7439679 0.136213140\n",
       "LFlex     1   108.94490  108.94490  0.4086761 0.540510899\n",
       "Residuals 8  2132.64071  266.58009         NA          NA"
      ]
     },
     "metadata": {},
     "output_type": "display_data"
    }
   ],
   "source": [
    "anova(pun_model1)"
   ]
  },
  {
   "cell_type": "code",
   "execution_count": 236,
   "metadata": {},
   "outputs": [
    {
     "data": {
      "text/html": [
       "<table class=\"dataframe\">\n",
       "<caption>A anova: 3 × 5</caption>\n",
       "<thead>\n",
       "\t<tr><th></th><th scope=col>Df</th><th scope=col>Sum Sq</th><th scope=col>Mean Sq</th><th scope=col>F value</th><th scope=col>Pr(&gt;F)</th></tr>\n",
       "\t<tr><th></th><th scope=col>&lt;int&gt;</th><th scope=col>&lt;dbl&gt;</th><th scope=col>&lt;dbl&gt;</th><th scope=col>&lt;dbl&gt;</th><th scope=col>&lt;dbl&gt;</th></tr>\n",
       "</thead>\n",
       "<tbody>\n",
       "\t<tr><th scope=row>RStr</th><td> 1</td><td>5069.80896</td><td>5069.80896</td><td>17.0524211</td><td>0.00204596</td></tr>\n",
       "\t<tr><th scope=row>LStr</th><td> 1</td><td>  50.42669</td><td>  50.42669</td><td> 0.1696114</td><td>0.68914615</td></tr>\n",
       "\t<tr><th scope=row>Residuals</th><td>10</td><td>2973.07282</td><td> 297.30728</td><td>        NA</td><td>        NA</td></tr>\n",
       "</tbody>\n",
       "</table>\n"
      ],
      "text/latex": [
       "A anova: 3 × 5\n",
       "\\begin{tabular}{r|lllll}\n",
       "  & Df & Sum Sq & Mean Sq & F value & Pr(>F)\\\\\n",
       "  & <int> & <dbl> & <dbl> & <dbl> & <dbl>\\\\\n",
       "\\hline\n",
       "\tRStr &  1 & 5069.80896 & 5069.80896 & 17.0524211 & 0.00204596\\\\\n",
       "\tLStr &  1 &   50.42669 &   50.42669 &  0.1696114 & 0.68914615\\\\\n",
       "\tResiduals & 10 & 2973.07282 &  297.30728 &         NA &         NA\\\\\n",
       "\\end{tabular}\n"
      ],
      "text/markdown": [
       "\n",
       "A anova: 3 × 5\n",
       "\n",
       "| <!--/--> | Df &lt;int&gt; | Sum Sq &lt;dbl&gt; | Mean Sq &lt;dbl&gt; | F value &lt;dbl&gt; | Pr(&gt;F) &lt;dbl&gt; |\n",
       "|---|---|---|---|---|---|\n",
       "| RStr |  1 | 5069.80896 | 5069.80896 | 17.0524211 | 0.00204596 |\n",
       "| LStr |  1 |   50.42669 |   50.42669 |  0.1696114 | 0.68914615 |\n",
       "| Residuals | 10 | 2973.07282 |  297.30728 |         NA |         NA |\n",
       "\n"
      ],
      "text/plain": [
       "          Df Sum Sq     Mean Sq    F value    Pr(>F)    \n",
       "RStr       1 5069.80896 5069.80896 17.0524211 0.00204596\n",
       "LStr       1   50.42669   50.42669  0.1696114 0.68914615\n",
       "Residuals 10 2973.07282  297.30728         NA         NA"
      ]
     },
     "metadata": {},
     "output_type": "display_data"
    }
   ],
   "source": [
    "anova(pun_model2)"
   ]
  },
  {
   "cell_type": "code",
   "execution_count": 238,
   "metadata": {},
   "outputs": [
    {
     "data": {
      "text/html": [
       "<table class=\"dataframe\">\n",
       "<caption>A anova: 2 × 6</caption>\n",
       "<thead>\n",
       "\t<tr><th></th><th scope=col>Res.Df</th><th scope=col>RSS</th><th scope=col>Df</th><th scope=col>Sum of Sq</th><th scope=col>F</th><th scope=col>Pr(&gt;F)</th></tr>\n",
       "\t<tr><th></th><th scope=col>&lt;dbl&gt;</th><th scope=col>&lt;dbl&gt;</th><th scope=col>&lt;dbl&gt;</th><th scope=col>&lt;dbl&gt;</th><th scope=col>&lt;dbl&gt;</th><th scope=col>&lt;dbl&gt;</th></tr>\n",
       "</thead>\n",
       "<tbody>\n",
       "\t<tr><th scope=row>1</th><td>12</td><td>8093.308</td><td>NA</td><td>      NA</td><td>      NA</td><td>         NA</td></tr>\n",
       "\t<tr><th scope=row>2</th><td>10</td><td>2973.073</td><td> 2</td><td>5120.236</td><td>8.611016</td><td>0.006689556</td></tr>\n",
       "</tbody>\n",
       "</table>\n"
      ],
      "text/latex": [
       "A anova: 2 × 6\n",
       "\\begin{tabular}{r|llllll}\n",
       "  & Res.Df & RSS & Df & Sum of Sq & F & Pr(>F)\\\\\n",
       "  & <dbl> & <dbl> & <dbl> & <dbl> & <dbl> & <dbl>\\\\\n",
       "\\hline\n",
       "\t1 & 12 & 8093.308 & NA &       NA &       NA &          NA\\\\\n",
       "\t2 & 10 & 2973.073 &  2 & 5120.236 & 8.611016 & 0.006689556\\\\\n",
       "\\end{tabular}\n"
      ],
      "text/markdown": [
       "\n",
       "A anova: 2 × 6\n",
       "\n",
       "| <!--/--> | Res.Df &lt;dbl&gt; | RSS &lt;dbl&gt; | Df &lt;dbl&gt; | Sum of Sq &lt;dbl&gt; | F &lt;dbl&gt; | Pr(&gt;F) &lt;dbl&gt; |\n",
       "|---|---|---|---|---|---|---|\n",
       "| 1 | 12 | 8093.308 | NA |       NA |       NA |          NA |\n",
       "| 2 | 10 | 2973.073 |  2 | 5120.236 | 8.611016 | 0.006689556 |\n",
       "\n"
      ],
      "text/plain": [
       "  Res.Df RSS      Df Sum of Sq F        Pr(>F)     \n",
       "1 12     8093.308 NA       NA        NA          NA\n",
       "2 10     2973.073  2 5120.236  8.611016 0.006689556"
      ]
     },
     "metadata": {},
     "output_type": "display_data"
    }
   ],
   "source": [
    "anova(null_model1, pun_model2)"
   ]
  },
  {
   "cell_type": "code",
   "execution_count": 13,
   "metadata": {},
   "outputs": [
    {
     "data": {
      "text/html": [
       "<table class=\"dataframe\">\n",
       "<caption>A matrix: 5 × 2 of type dbl</caption>\n",
       "<thead>\n",
       "\t<tr><th></th><th scope=col>2.5 %</th><th scope=col>97.5 %</th></tr>\n",
       "</thead>\n",
       "<tbody>\n",
       "\t<tr><th scope=row>(Intercept)</th><td>-230.8826019</td><td>71.6353107</td></tr>\n",
       "\t<tr><th scope=row>RStr</th><td>  -0.6080871</td><td> 1.6313618</td></tr>\n",
       "\t<tr><th scope=row>LStr</th><td>  -1.3690973</td><td> 0.9966981</td></tr>\n",
       "\t<tr><th scope=row>RFlex</th><td>  -0.9400454</td><td> 5.6890474</td></tr>\n",
       "\t<tr><th scope=row>LFlex</th><td>  -2.4313762</td><td> 1.3759086</td></tr>\n",
       "</tbody>\n",
       "</table>\n"
      ],
      "text/latex": [
       "A matrix: 5 × 2 of type dbl\n",
       "\\begin{tabular}{r|ll}\n",
       "  & 2.5 \\% & 97.5 \\%\\\\\n",
       "\\hline\n",
       "\t(Intercept) & -230.8826019 & 71.6353107\\\\\n",
       "\tRStr &   -0.6080871 &  1.6313618\\\\\n",
       "\tLStr &   -1.3690973 &  0.9966981\\\\\n",
       "\tRFlex &   -0.9400454 &  5.6890474\\\\\n",
       "\tLFlex &   -2.4313762 &  1.3759086\\\\\n",
       "\\end{tabular}\n"
      ],
      "text/markdown": [
       "\n",
       "A matrix: 5 × 2 of type dbl\n",
       "\n",
       "| <!--/--> | 2.5 % | 97.5 % |\n",
       "|---|---|---|\n",
       "| (Intercept) | -230.8826019 | 71.6353107 |\n",
       "| RStr |   -0.6080871 |  1.6313618 |\n",
       "| LStr |   -1.3690973 |  0.9966981 |\n",
       "| RFlex |   -0.9400454 |  5.6890474 |\n",
       "| LFlex |   -2.4313762 |  1.3759086 |\n",
       "\n"
      ],
      "text/plain": [
       "            2.5 %        97.5 %    \n",
       "(Intercept) -230.8826019 71.6353107\n",
       "RStr          -0.6080871  1.6313618\n",
       "LStr          -1.3690973  0.9966981\n",
       "RFlex         -0.9400454  5.6890474\n",
       "LFlex         -2.4313762  1.3759086"
      ]
     },
     "metadata": {},
     "output_type": "display_data"
    }
   ],
   "source": [
    "#d)\n",
    "confint(pun_model1)"
   ]
  },
  {
   "cell_type": "code",
   "execution_count": 239,
   "metadata": {},
   "outputs": [
    {
     "data": {
      "image/png": "[encoded data removed]",
      "text/plain": [
       "plot without title"
      ]
     },
     "metadata": {
      "image/png": {
       "height": 420,
       "width": 420
      }
     },
     "output_type": "display_data"
    }
   ],
   "source": [
    "library(ellipse)\n",
    "plot(ellipse(pun_model2, c(2,3)), type = 'l')\n",
    "points(pun_model2$coefficients[2], pun_model2$coefficients[3], pch = 19)\n",
    "points(0,0, pch = 4)\n",
    "abline(v = confint(pun_model2)[2, ], lty = 2)\n",
    "abline(h = confint(pun_model2)[3, ], lty = 2)"
   ]
  },
  {
   "cell_type": "code",
   "execution_count": 77,
   "metadata": {},
   "outputs": [
    {
     "data": {
      "text/html": [
       "<table class=\"dataframe\">\n",
       "<caption>A anova: 5 × 5</caption>\n",
       "<thead>\n",
       "\t<tr><th></th><th scope=col>Df</th><th scope=col>Sum Sq</th><th scope=col>Mean Sq</th><th scope=col>F value</th><th scope=col>Pr(&gt;F)</th></tr>\n",
       "\t<tr><th></th><th scope=col>&lt;int&gt;</th><th scope=col>&lt;dbl&gt;</th><th scope=col>&lt;dbl&gt;</th><th scope=col>&lt;dbl&gt;</th><th scope=col>&lt;dbl&gt;</th></tr>\n",
       "</thead>\n",
       "<tbody>\n",
       "\t<tr><th scope=row>RStr</th><td>1</td><td>5069.80896</td><td>5069.80896</td><td>19.0179581</td><td>0.002409544</td></tr>\n",
       "\t<tr><th scope=row>LStr</th><td>1</td><td>  50.42669</td><td>  50.42669</td><td> 0.1891615</td><td>0.675109657</td></tr>\n",
       "\t<tr><th scope=row>RFlex</th><td>1</td><td> 731.48721</td><td> 731.48721</td><td> 2.7439679</td><td>0.136213140</td></tr>\n",
       "\t<tr><th scope=row>LFlex</th><td>1</td><td> 108.94490</td><td> 108.94490</td><td> 0.4086761</td><td>0.540510899</td></tr>\n",
       "\t<tr><th scope=row>Residuals</th><td>8</td><td>2132.64071</td><td> 266.58009</td><td>        NA</td><td>         NA</td></tr>\n",
       "</tbody>\n",
       "</table>\n"
      ],
      "text/latex": [
       "A anova: 5 × 5\n",
       "\\begin{tabular}{r|lllll}\n",
       "  & Df & Sum Sq & Mean Sq & F value & Pr(>F)\\\\\n",
       "  & <int> & <dbl> & <dbl> & <dbl> & <dbl>\\\\\n",
       "\\hline\n",
       "\tRStr & 1 & 5069.80896 & 5069.80896 & 19.0179581 & 0.002409544\\\\\n",
       "\tLStr & 1 &   50.42669 &   50.42669 &  0.1891615 & 0.675109657\\\\\n",
       "\tRFlex & 1 &  731.48721 &  731.48721 &  2.7439679 & 0.136213140\\\\\n",
       "\tLFlex & 1 &  108.94490 &  108.94490 &  0.4086761 & 0.540510899\\\\\n",
       "\tResiduals & 8 & 2132.64071 &  266.58009 &         NA &          NA\\\\\n",
       "\\end{tabular}\n"
      ],
      "text/markdown": [
       "\n",
       "A anova: 5 × 5\n",
       "\n",
       "| <!--/--> | Df &lt;int&gt; | Sum Sq &lt;dbl&gt; | Mean Sq &lt;dbl&gt; | F value &lt;dbl&gt; | Pr(&gt;F) &lt;dbl&gt; |\n",
       "|---|---|---|---|---|---|\n",
       "| RStr | 1 | 5069.80896 | 5069.80896 | 19.0179581 | 0.002409544 |\n",
       "| LStr | 1 |   50.42669 |   50.42669 |  0.1891615 | 0.675109657 |\n",
       "| RFlex | 1 |  731.48721 |  731.48721 |  2.7439679 | 0.136213140 |\n",
       "| LFlex | 1 |  108.94490 |  108.94490 |  0.4086761 | 0.540510899 |\n",
       "| Residuals | 8 | 2132.64071 |  266.58009 |         NA |          NA |\n",
       "\n"
      ],
      "text/plain": [
       "          Df Sum Sq     Mean Sq    F value    Pr(>F)     \n",
       "RStr      1  5069.80896 5069.80896 19.0179581 0.002409544\n",
       "LStr      1    50.42669   50.42669  0.1891615 0.675109657\n",
       "RFlex     1   731.48721  731.48721  2.7439679 0.136213140\n",
       "LFlex     1   108.94490  108.94490  0.4086761 0.540510899\n",
       "Residuals 8  2132.64071  266.58009         NA          NA"
      ]
     },
     "metadata": {},
     "output_type": "display_data"
    }
   ],
   "source": [
    "anova(pun_model1)"
   ]
  },
  {
   "cell_type": "code",
   "execution_count": 78,
   "metadata": {},
   "outputs": [
    {
     "data": {
      "text/html": [
       "<table class=\"dataframe\">\n",
       "<caption>A anova: 2 × 6</caption>\n",
       "<thead>\n",
       "\t<tr><th></th><th scope=col>Res.Df</th><th scope=col>RSS</th><th scope=col>Df</th><th scope=col>Sum of Sq</th><th scope=col>F</th><th scope=col>Pr(&gt;F)</th></tr>\n",
       "\t<tr><th></th><th scope=col>&lt;dbl&gt;</th><th scope=col>&lt;dbl&gt;</th><th scope=col>&lt;dbl&gt;</th><th scope=col>&lt;dbl&gt;</th><th scope=col>&lt;dbl&gt;</th><th scope=col>&lt;dbl&gt;</th></tr>\n",
       "</thead>\n",
       "<tbody>\n",
       "\t<tr><th scope=row>1</th><td>12</td><td>8093.308</td><td>NA</td><td>      NA</td><td>      NA</td><td>        NA</td></tr>\n",
       "\t<tr><th scope=row>2</th><td> 8</td><td>2132.641</td><td> 4</td><td>5960.668</td><td>5.589941</td><td>0.01902482</td></tr>\n",
       "</tbody>\n",
       "</table>\n"
      ],
      "text/latex": [
       "A anova: 2 × 6\n",
       "\\begin{tabular}{r|llllll}\n",
       "  & Res.Df & RSS & Df & Sum of Sq & F & Pr(>F)\\\\\n",
       "  & <dbl> & <dbl> & <dbl> & <dbl> & <dbl> & <dbl>\\\\\n",
       "\\hline\n",
       "\t1 & 12 & 8093.308 & NA &       NA &       NA &         NA\\\\\n",
       "\t2 &  8 & 2132.641 &  4 & 5960.668 & 5.589941 & 0.01902482\\\\\n",
       "\\end{tabular}\n"
      ],
      "text/markdown": [
       "\n",
       "A anova: 2 × 6\n",
       "\n",
       "| <!--/--> | Res.Df &lt;dbl&gt; | RSS &lt;dbl&gt; | Df &lt;dbl&gt; | Sum of Sq &lt;dbl&gt; | F &lt;dbl&gt; | Pr(&gt;F) &lt;dbl&gt; |\n",
       "|---|---|---|---|---|---|---|\n",
       "| 1 | 12 | 8093.308 | NA |       NA |       NA |         NA |\n",
       "| 2 |  8 | 2132.641 |  4 | 5960.668 | 5.589941 | 0.01902482 |\n",
       "\n"
      ],
      "text/plain": [
       "  Res.Df RSS      Df Sum of Sq F        Pr(>F)    \n",
       "1 12     8093.308 NA       NA        NA         NA\n",
       "2  8     2132.641  4 5960.668  5.589941 0.01902482"
      ]
     },
     "metadata": {},
     "output_type": "display_data"
    }
   ],
   "source": [
    "anova(null_model1, pun_model1)"
   ]
  },
  {
   "cell_type": "code",
   "execution_count": 158,
   "metadata": {},
   "outputs": [],
   "source": [
    "SST <- sum((punting$Distance - mean(punting$Distance))^2)\n",
    "SSR <- sum((pun_model1$fitted.values - mean(punting$Distance))^2)\n",
    "SSE <- sum((punting$Distance - pun_model1$fitted.values)^2)\n",
    "MSR <- SSR/(pun_model1$rank - 1)\n",
    "MSE <- SSE/(nrow(punting) - pun_model1$rank)\n",
    "df_vector <- c(pun_model1$rank - 1, nrow(punting) - pun_model1$rank, nrow(punting) - 1)\n",
    "SS <- c(SSR, SSE, SST)\n",
    "\n",
    "anova_table <- as_tibble(cbind(df_vector, SS))\n",
    "\n",
    "anova_table <- anova_table %>% mutate(MS = SS/df_vector)\n",
    "\n",
    "anova_table[3,3] <- NA\n",
    "\n",
    "F_stat <- c(as.numeric(anova_table[1,3] / anova_table[2,3]), NA, NA)\n",
    "\n",
    "p_value <- c(1 - (pf(F_stat[1], (pun_model1$rank - 1) , (nrow(punting) - pun_model1$rank))), NA, NA)\n",
    "\n",
    "anova_table <- cbind(anova_table, F_stat, p_value)"
   ]
  },
  {
   "cell_type": "code",
   "execution_count": 167,
   "metadata": {},
   "outputs": [
    {
     "data": {
      "text/plain": [
       "\n",
       "Call:\n",
       "lm(formula = Distance ~ RStr + LStr + RFlex + LFlex, data = punting)\n",
       "\n",
       "Residuals:\n",
       "    Min      1Q  Median      3Q     Max \n",
       "-23.941  -8.958  -4.441  13.523  17.016 \n",
       "\n",
       "Coefficients:\n",
       "            Estimate Std. Error t value Pr(>|t|)\n",
       "(Intercept) -79.6236    65.5935  -1.214    0.259\n",
       "RStr          0.5116     0.4856   1.054    0.323\n",
       "LStr         -0.1862     0.5130  -0.363    0.726\n",
       "RFlex         2.3745     1.4374   1.652    0.137\n",
       "LFlex        -0.5277     0.8255  -0.639    0.541\n",
       "\n",
       "Residual standard error: 16.33 on 8 degrees of freedom\n",
       "Multiple R-squared:  0.7365,\tAdjusted R-squared:  0.6047 \n",
       "F-statistic:  5.59 on 4 and 8 DF,  p-value: 0.01902\n"
      ]
     },
     "metadata": {},
     "output_type": "display_data"
    },
    {
     "data": {
      "text/plain": [
       "\n",
       "\n",
       "| df_vector|       SS|       MS|   F_stat| p_value|\n",
       "|---------:|--------:|--------:|--------:|-------:|\n",
       "|         4| 226183.8| 56545.95| 52.87534|       0|\n",
       "|        45|  48123.9|  1069.42|       NA|      NA|\n",
       "|        49| 274307.7|       NA|       NA|      NA|"
      ]
     },
     "metadata": {},
     "output_type": "display_data"
    }
   ],
   "source": [
    "summary(pun_model1)\n",
    "knitr::kable(anova_table)"
   ]
  },
  {
   "cell_type": "code",
   "execution_count": 225,
   "metadata": {},
   "outputs": [
    {
     "data": {
      "text/plain": [
       "\n",
       "Call:\n",
       "lm(formula = Distance ~ RStr + LStr, data = punting)\n",
       "\n",
       "Residuals:\n",
       "    Min      1Q  Median      3Q     Max \n",
       "-29.280  -9.583   3.147  10.266  26.450 \n",
       "\n",
       "Coefficients:\n",
       "            Estimate Std. Error t value Pr(>|t|)\n",
       "(Intercept)  12.8490    33.0334   0.389    0.705\n",
       "RStr          0.7208     0.4913   1.467    0.173\n",
       "LStr          0.2011     0.4883   0.412    0.689\n",
       "\n",
       "Residual standard error: 17.24 on 10 degrees of freedom\n",
       "Multiple R-squared:  0.6327,\tAdjusted R-squared:  0.5592 \n",
       "F-statistic: 8.611 on 2 and 10 DF,  p-value: 0.00669\n"
      ]
     },
     "metadata": {},
     "output_type": "display_data"
    }
   ],
   "source": [
    "summary(pun_model2)"
   ]
  },
  {
   "cell_type": "code",
   "execution_count": 212,
   "metadata": {},
   "outputs": [
    {
     "name": "stdout",
     "output_type": "stream",
     "text": [
      "$coefficients\n",
      "(Intercept)        RStr        LStr       RFlex       LFlex \n",
      "-79.6236456   0.5116373  -0.1861996   2.3745010  -0.5277338 \n",
      "\n",
      "$residuals\n",
      "         1          2          3          4          5          6          7 \n",
      " -8.958093   6.825517 -12.982499  -4.440752  14.706378   8.646225 -12.345099 \n",
      "         8          9         10         11         12         13 \n",
      " -6.900083 -23.940863  -6.569137  17.016426  13.523251  15.418728 \n",
      "\n",
      "$effects\n",
      "(Intercept)        RStr        LStr       RFlex       LFlex             \n",
      "-534.461960   71.202591    7.101176  -27.046020  -10.437667   -2.415226 \n",
      "                                                                        \n",
      "  -9.304684   -7.312492  -27.143414  -10.914924   -5.274829   21.329014 \n",
      "            \n",
      "  25.457937 \n",
      "\n",
      "$rank\n",
      "[1] 5\n",
      "\n",
      "$fitted.values\n",
      "       1        2        3        4        5        6        7        8 \n",
      "171.4581 137.1745 160.4825 167.9408 177.2936 163.1038 174.3451 111.8301 \n",
      "       9       10       11       12       13 \n",
      "129.6109 124.1591 123.2336 136.6467 149.7513 \n",
      "\n",
      "$assign\n",
      "[1] 0 1 2 3 4\n",
      "\n",
      "$qr\n",
      "$qr\n",
      "   (Intercept)          RStr          LStr         RFlex         LFlex\n",
      "1   -3.6055513 -532.51218838 -518.64468347 -345.02352205 -328.93721636\n",
      "2    0.2773501   78.93522174   71.13915045   20.91296122   10.60265694\n",
      "3    0.2773501   -0.34793136   35.31166352    7.29657839    6.91549212\n",
      "4    0.2773501   -0.09455905   -0.08713556  -15.43299154  -18.19029658\n",
      "5    0.2773501   -0.22124520    0.47675074    0.58736376   19.77828196\n",
      "6    0.2773501    0.03212711   -0.08463676    0.15371155    0.55440310\n",
      "7    0.2773501   -0.22124520   -0.37282691   -0.09107802   -0.09983032\n",
      "8    0.2773501    0.53887175   -0.07464156   -0.04659008   -0.10419733\n",
      "9    0.2773501    0.41218559    0.20605219    0.33222665    0.18673428\n",
      "10   0.2773501    0.28549943    0.20355339   -0.18466514    0.22882022\n",
      "11   0.2773501    0.41218559   -0.64352545   -0.67019639    0.66969493\n",
      "12   0.2773501    0.15881327    0.20105459    0.07599809   -0.24285042\n",
      "13   0.2773501   -0.09455905    0.19605699   -0.11543423   -0.27705708\n",
      "attr(,\"assign\")\n",
      "[1] 0 1 2 3 4\n",
      "\n",
      "$qraux\n",
      "[1] 1.277350 1.158813 1.191059 1.090394 1.018905\n",
      "\n",
      "$pivot\n",
      "[1] 1 2 3 4 5\n",
      "\n",
      "$tol\n",
      "[1] 1e-07\n",
      "\n",
      "$rank\n",
      "[1] 5\n",
      "\n",
      "attr(,\"class\")\n",
      "[1] \"qr\"\n",
      "\n",
      "$df.residual\n",
      "[1] 8\n",
      "\n",
      "$xlevels\n",
      "named list()\n",
      "\n",
      "$call\n",
      "lm(formula = Distance ~ RStr + LStr + RFlex + LFlex, data = punting)\n",
      "\n",
      "$terms\n",
      "Distance ~ RStr + LStr + RFlex + LFlex\n",
      "attr(,\"variables\")\n",
      "list(Distance, RStr, LStr, RFlex, LFlex)\n",
      "attr(,\"factors\")\n",
      "         RStr LStr RFlex LFlex\n",
      "Distance    0    0     0     0\n",
      "RStr        1    0     0     0\n",
      "LStr        0    1     0     0\n",
      "RFlex       0    0     1     0\n",
      "LFlex       0    0     0     1\n",
      "attr(,\"term.labels\")\n",
      "[1] \"RStr\"  \"LStr\"  \"RFlex\" \"LFlex\"\n",
      "attr(,\"order\")\n",
      "[1] 1 1 1 1\n",
      "attr(,\"intercept\")\n",
      "[1] 1\n",
      "attr(,\"response\")\n",
      "[1] 1\n",
      "attr(,\".Environment\")\n",
      "<environment: R_GlobalEnv>\n",
      "attr(,\"predvars\")\n",
      "list(Distance, RStr, LStr, RFlex, LFlex)\n",
      "attr(,\"dataClasses\")\n",
      " Distance      RStr      LStr     RFlex     LFlex \n",
      "\"numeric\" \"numeric\" \"numeric\" \"numeric\" \"numeric\" \n",
      "\n",
      "$model\n",
      "   Distance RStr LStr RFlex LFlex\n",
      "1    162.50  170  170   106   106\n",
      "2    144.00  140  130    92    93\n",
      "3    147.50  180  170    93    78\n",
      "4    163.50  160  160   103    93\n",
      "5    192.00  170  150   104    93\n",
      "6    171.75  150  150   101    87\n",
      "7    162.00  170  180   108   106\n",
      "8    104.93  110  110    86    92\n",
      "9    105.67  120  110    90    86\n",
      "10   117.59  130  120    85    80\n",
      "11   140.25  120  140    89    83\n",
      "12   150.17  140  130    92    94\n",
      "13   165.17  160  150    95    95\n",
      "\n"
     ]
    }
   ],
   "source": [
    "for(i in names(pun_model1)){\n",
    "    print(pun_model1[i])\n",
    "    }"
   ]
  },
  {
   "cell_type": "code",
   "execution_count": 241,
   "metadata": {},
   "outputs": [
    {
     "name": "stdout",
     "output_type": "stream",
     "text": [
      "Analysis of Variance Table\n",
      "\n",
      "Model 1: Distance ~ RStr + LStr + RFlex + LFlex\n",
      "Model 2: Distance ~ RStr + LStr\n",
      "  Res.Df    RSS Df Sum of Sq      F Pr(>F)\n",
      "1      8 2132.6                           \n",
      "2     10 2973.1 -2   -840.43 1.5763 0.2648\n"
     ]
    }
   ],
   "source": [
    "print(anova(pun_model1, pun_model2))"
   ]
  },
  {
   "cell_type": "code",
   "execution_count": 210,
   "metadata": {},
   "outputs": [],
   "source": [
    "predictor_list <- attributes(pun_model1$terms)$variables"
   ]
  },
  {
   "cell_type": "code",
   "execution_count": 220,
   "metadata": {},
   "outputs": [
    {
     "data": {
      "text/plain": [
       "NULL"
      ]
     },
     "metadata": {},
     "output_type": "display_data"
    }
   ],
   "source": [
    "(pun_model1$model)$predictor_list[[2]]"
   ]
  },
  {
   "cell_type": "code",
   "execution_count": 221,
   "metadata": {},
   "outputs": [
    {
     "data": {
      "text/plain": [
       "RStr"
      ]
     },
     "metadata": {},
     "output_type": "display_data"
    }
   ],
   "source": [
    "predictor_list[[3]]"
   ]
  },
  {
   "cell_type": "code",
   "execution_count": 245,
   "metadata": {},
   "outputs": [
    {
     "name": "stdout",
     "output_type": "stream",
     "text": [
      "Analysis of Variance Table\n",
      "\n",
      "Model 1: total ~ expend + ratio + salary\n",
      "Model 2: total ~ expend + ratio + salary + takers\n",
      "  Res.Df    RSS Df Sum of Sq      F    Pr(>F)    \n",
      "1     46 216812                                  \n",
      "2     45  48124  1    168688 157.74 2.607e-16 ***\n",
      "---\n",
      "Signif. codes:  0 ‘***’ 0.001 ‘**’ 0.01 ‘*’ 0.05 ‘.’ 0.1 ‘ ’ 1\n"
     ]
    },
    {
     "data": {
      "text/plain": [
       "\n",
       "\n",
       "| Res.Df|      RSS| Df| Sum of Sq|        F| Pr(>F)|\n",
       "|------:|--------:|--:|---------:|--------:|------:|\n",
       "|     46| 216811.9| NA|        NA|       NA|     NA|\n",
       "|     45|  48123.9|  1|    168688| 157.7379|      0|"
      ]
     },
     "metadata": {},
     "output_type": "display_data"
    }
   ],
   "source": [
    "knitr::kable(print(anova(sat_model1, sat_model2)))"
   ]
  },
  {
   "cell_type": "code",
   "execution_count": null,
   "metadata": {},
   "outputs": [],
   "source": []
  }
 ],
 "metadata": {
  "kernelspec": {
   "display_name": "R",
   "language": "R",
   "name": "ir"
  },
  "language_info": {
   "codemirror_mode": "r",
   "file_extension": ".r",
   "mimetype": "text/x-r-source",
   "name": "R",
   "pygments_lexer": "r",
   "version": "4.2.0"
  }
 },
 "nbformat": 4,
 "nbformat_minor": 4
}
