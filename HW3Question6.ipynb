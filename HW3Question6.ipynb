{
 "cells": [
  {
   "cell_type": "code",
   "execution_count": 1,
   "metadata": {},
   "outputs": [
    {
     "name": "stderr",
     "output_type": "stream",
     "text": [
      "Loading required package: carData\n",
      "\n",
      "\n",
      "Attaching package: ‘car’\n",
      "\n",
      "\n",
      "The following objects are masked from ‘package:faraway’:\n",
      "\n",
      "    logit, vif\n",
      "\n",
      "\n",
      "Loading required package: zoo\n",
      "\n",
      "\n",
      "Attaching package: ‘zoo’\n",
      "\n",
      "\n",
      "The following objects are masked from ‘package:base’:\n",
      "\n",
      "    as.Date, as.Date.numeric\n",
      "\n",
      "\n",
      "── \u001b[1mAttaching packages\u001b[22m ───────────────────────────────────────────────────────────── tidyverse 1.3.1 ──\n",
      "\n",
      "\u001b[32m✔\u001b[39m \u001b[34mggplot2\u001b[39m 3.3.6     \u001b[32m✔\u001b[39m \u001b[34mpurrr  \u001b[39m 0.3.4\n",
      "\u001b[32m✔\u001b[39m \u001b[34mtibble \u001b[39m 3.1.7     \u001b[32m✔\u001b[39m \u001b[34mdplyr  \u001b[39m 1.0.9\n",
      "\u001b[32m✔\u001b[39m \u001b[34mtidyr  \u001b[39m 1.2.0     \u001b[32m✔\u001b[39m \u001b[34mstringr\u001b[39m 1.4.0\n",
      "\u001b[32m✔\u001b[39m \u001b[34mreadr  \u001b[39m 2.1.2     \u001b[32m✔\u001b[39m \u001b[34mforcats\u001b[39m 0.5.1\n",
      "\n",
      "── \u001b[1mConflicts\u001b[22m ──────────────────────────────────────────────────────────────── tidyverse_conflicts() ──\n",
      "\u001b[31m✖\u001b[39m \u001b[34mdplyr\u001b[39m::\u001b[32mfilter()\u001b[39m masks \u001b[34mstats\u001b[39m::filter()\n",
      "\u001b[31m✖\u001b[39m \u001b[34mdplyr\u001b[39m::\u001b[32mlag()\u001b[39m    masks \u001b[34mstats\u001b[39m::lag()\n",
      "\u001b[31m✖\u001b[39m \u001b[34mdplyr\u001b[39m::\u001b[32mrecode()\u001b[39m masks \u001b[34mcar\u001b[39m::recode()\n",
      "\u001b[31m✖\u001b[39m \u001b[34mdplyr\u001b[39m::\u001b[32mselect()\u001b[39m masks \u001b[34mMASS\u001b[39m::select()\n",
      "\u001b[31m✖\u001b[39m \u001b[34mpurrr\u001b[39m::\u001b[32msome()\u001b[39m   masks \u001b[34mcar\u001b[39m::some()\n",
      "\n",
      "\n",
      "Attaching package: ‘nlme’\n",
      "\n",
      "\n",
      "The following object is masked from ‘package:dplyr’:\n",
      "\n",
      "    collapse\n",
      "\n",
      "\n"
     ]
    }
   ],
   "source": [
    "library(faraway)\n",
    "library(car)\n",
    "library(MASS)\n",
    "library(lmtest)\n",
    "library(tidyverse)\n",
    "library(nlme)"
   ]
  },
  {
   "cell_type": "code",
   "execution_count": 6,
   "metadata": {},
   "outputs": [
    {
     "name": "stderr",
     "output_type": "stream",
     "text": [
      "\n",
      "\u001b[36m──\u001b[39m \u001b[1mColumn specification\u001b[22m \u001b[36m──────────────────────────────────────────────────────────────────────────────\u001b[39m\n",
      "cols(\n",
      "  Drug = \u001b[32mcol_double()\u001b[39m,\n",
      "  Momweight = \u001b[32mcol_double()\u001b[39m,\n",
      "  Dadweight = \u001b[32mcol_double()\u001b[39m,\n",
      "  Pigweight = \u001b[32mcol_double()\u001b[39m\n",
      ")\n",
      "\n"
     ]
    },
    {
     "data": {
      "text/plain": [
       "\n",
       "Call:\n",
       "lm(formula = Pigweight ~ ., data = df_pigs)\n",
       "\n",
       "Residuals:\n",
       "   Min     1Q Median     3Q    Max \n",
       "-3.905 -1.174  0.187  1.351  3.657 \n",
       "\n",
       "Coefficients:\n",
       "            Estimate Std. Error t value Pr(>|t|)    \n",
       "(Intercept)  7.48163    9.14917   0.818  0.41628    \n",
       "Drug2       -1.60557    0.52788  -3.042  0.00331 ** \n",
       "Drug3       -0.70480    0.52871  -1.333  0.18684    \n",
       "Momweight    0.26363    0.04727   5.578 4.28e-07 ***\n",
       "Dadweight    0.17442    0.03465   5.034 3.58e-06 ***\n",
       "---\n",
       "Signif. codes:  0 ‘***’ 0.001 ‘**’ 0.01 ‘*’ 0.05 ‘.’ 0.1 ‘ ’ 1\n",
       "\n",
       "Residual standard error: 1.855 on 70 degrees of freedom\n",
       "Multiple R-squared:  0.4561,\tAdjusted R-squared:  0.425 \n",
       "F-statistic: 14.67 on 4 and 70 DF,  p-value: 9.393e-09\n"
      ]
     },
     "metadata": {},
     "output_type": "display_data"
    },
    {
     "data": {
      "text/html": [
       "<strong>(Intercept):</strong> 5.87606600631408"
      ],
      "text/latex": [
       "\\textbf{(Intercept):} 5.87606600631408"
      ],
      "text/markdown": [
       "**(Intercept):** 5.87606600631408"
      ],
      "text/plain": [
       "(Intercept) \n",
       "   5.876066 "
      ]
     },
     "metadata": {},
     "output_type": "display_data"
    },
    {
     "data": {
      "text/html": [
       "<strong>(Intercept):</strong> 6.77683134563727"
      ],
      "text/latex": [
       "\\textbf{(Intercept):} 6.77683134563727"
      ],
      "text/markdown": [
       "**(Intercept):** 6.77683134563727"
      ],
      "text/plain": [
       "(Intercept) \n",
       "   6.776831 "
      ]
     },
     "metadata": {},
     "output_type": "display_data"
    }
   ],
   "source": [
    "df_pigs <- read_table(\"pig_weight.txt\")\n",
    "df_pigs$Drug <- as.factor(df_pigs$Drug)\n",
    "pig_model1 <- lm(Pigweight ~ ., data = df_pigs)\n",
    "summary(pig_model1)\n",
    "pig_model1$coefficients[1] + pig_model1$coefficients[2]\n",
    "pig_model1$coefficients[1] + pig_model1$coefficients[3]"
   ]
  },
  {
   "cell_type": "markdown",
   "metadata": {},
   "source": [
    "Part a\n",
    "\n",
    "$ y = \\beta_0 + \\beta_1 x_1 +  \\beta_2 x_2 + \\beta_3 x_3 + \\beta_4 x_4 + \\epsilon$\n",
    "\n",
    "$x_1$ -> Whether drug 2 was administered  \n",
    "$x_2$ -> Whether drug 3 was administered  \n",
    "$x_3$ -> Mom weight  \n",
    "$x_4$ -> Dad weight"
   ]
  },
  {
   "cell_type": "markdown",
   "metadata": {},
   "source": [
    "|*Drug*|$E(y | x)$|\n",
    "|-|-|\n",
    "|1|7.48 - 0.264 $x_3$ + 0.174 $x_4$|\n",
    "|2|5.88 - 0.264 $x_3$ + 0.174 $x_4$|\n",
    "|3|6.78 - 0.264 $x_3$ + 0.174 $x_4$|"
   ]
  },
  {
   "cell_type": "code",
   "execution_count": 8,
   "metadata": {},
   "outputs": [
    {
     "data": {
      "text/html": [
       "<table class=\"dataframe\">\n",
       "<caption>A matrix: 1 × 3 of type dbl</caption>\n",
       "<thead>\n",
       "\t<tr><th></th><th scope=col>fit</th><th scope=col>lwr</th><th scope=col>upr</th></tr>\n",
       "</thead>\n",
       "<tbody>\n",
       "\t<tr><th scope=row>1</th><td>75.05263</td><td>71.15725</td><td>78.94801</td></tr>\n",
       "</tbody>\n",
       "</table>\n"
      ],
      "text/latex": [
       "A matrix: 1 × 3 of type dbl\n",
       "\\begin{tabular}{r|lll}\n",
       "  & fit & lwr & upr\\\\\n",
       "\\hline\n",
       "\t1 & 75.05263 & 71.15725 & 78.94801\\\\\n",
       "\\end{tabular}\n"
      ],
      "text/markdown": [
       "\n",
       "A matrix: 1 × 3 of type dbl\n",
       "\n",
       "| <!--/--> | fit | lwr | upr |\n",
       "|---|---|---|---|\n",
       "| 1 | 75.05263 | 71.15725 | 78.94801 |\n",
       "\n"
      ],
      "text/plain": [
       "  fit      lwr      upr     \n",
       "1 75.05263 71.15725 78.94801"
      ]
     },
     "metadata": {},
     "output_type": "display_data"
    }
   ],
   "source": [
    "# Part c\n",
    "new_pig <- tibble(Drug = as.factor(2), Momweight = 140, Dadweight = 185)\n",
    "\n",
    "predict(pig_model1, newdata = new_pig, interval = \"prediction\", level = 0.95)"
   ]
  },
  {
   "cell_type": "code",
   "execution_count": 47,
   "metadata": {},
   "outputs": [
    {
     "data": {
      "text/html": [
       "<table class=\"dataframe\">\n",
       "<caption>A matrix: 5 × 2 of type dbl</caption>\n",
       "<tbody>\n",
       "\t<tr><th scope=row>(Intercept)</th><td>-7.7752656</td><td>22.7385283</td></tr>\n",
       "\t<tr><th scope=row>Drug2</th><td>-2.4858376</td><td>-0.7252930</td></tr>\n",
       "\t<tr><th scope=row>Drug3</th><td>-1.5864659</td><td> 0.1768660</td></tr>\n",
       "\t<tr><th scope=row>Momweight</th><td> 0.1848135</td><td> 0.3424510</td></tr>\n",
       "\t<tr><th scope=row>Dadweight</th><td> 0.1166420</td><td> 0.2322017</td></tr>\n",
       "</tbody>\n",
       "</table>\n"
      ],
      "text/latex": [
       "A matrix: 5 × 2 of type dbl\n",
       "\\begin{tabular}{r|ll}\n",
       "\t(Intercept) & -7.7752656 & 22.7385283\\\\\n",
       "\tDrug2 & -2.4858376 & -0.7252930\\\\\n",
       "\tDrug3 & -1.5864659 &  0.1768660\\\\\n",
       "\tMomweight &  0.1848135 &  0.3424510\\\\\n",
       "\tDadweight &  0.1166420 &  0.2322017\\\\\n",
       "\\end{tabular}\n"
      ],
      "text/markdown": [
       "\n",
       "A matrix: 5 × 2 of type dbl\n",
       "\n",
       "| (Intercept) | -7.7752656 | 22.7385283 |\n",
       "| Drug2 | -2.4858376 | -0.7252930 |\n",
       "| Drug3 | -1.5864659 |  0.1768660 |\n",
       "| Momweight |  0.1848135 |  0.3424510 |\n",
       "| Dadweight |  0.1166420 |  0.2322017 |\n",
       "\n"
      ],
      "text/plain": [
       "            [,1]       [,2]      \n",
       "(Intercept) -7.7752656 22.7385283\n",
       "Drug2       -2.4858376 -0.7252930\n",
       "Drug3       -1.5864659  0.1768660\n",
       "Momweight    0.1848135  0.3424510\n",
       "Dadweight    0.1166420  0.2322017"
      ]
     },
     "metadata": {},
     "output_type": "display_data"
    },
    {
     "data": {
      "text/html": [
       "<table class=\"dataframe\">\n",
       "<caption>A matrix: 5 × 2 of type dbl</caption>\n",
       "<thead>\n",
       "\t<tr><th></th><th scope=col>5 %</th><th scope=col>95 %</th></tr>\n",
       "</thead>\n",
       "<tbody>\n",
       "\t<tr><th scope=row>(Intercept)</th><td>-7.7692473</td><td>22.7325099</td></tr>\n",
       "\t<tr><th scope=row>Drug2</th><td>-2.4854904</td><td>-0.7256403</td></tr>\n",
       "\t<tr><th scope=row>Drug3</th><td>-1.5861182</td><td> 0.1765182</td></tr>\n",
       "\t<tr><th scope=row>Momweight</th><td> 0.1848446</td><td> 0.3424199</td></tr>\n",
       "\t<tr><th scope=row>Dadweight</th><td> 0.1166648</td><td> 0.2321789</td></tr>\n",
       "</tbody>\n",
       "</table>\n"
      ],
      "text/latex": [
       "A matrix: 5 × 2 of type dbl\n",
       "\\begin{tabular}{r|ll}\n",
       "  & 5 \\% & 95 \\%\\\\\n",
       "\\hline\n",
       "\t(Intercept) & -7.7692473 & 22.7325099\\\\\n",
       "\tDrug2 & -2.4854904 & -0.7256403\\\\\n",
       "\tDrug3 & -1.5861182 &  0.1765182\\\\\n",
       "\tMomweight &  0.1848446 &  0.3424199\\\\\n",
       "\tDadweight &  0.1166648 &  0.2321789\\\\\n",
       "\\end{tabular}\n"
      ],
      "text/markdown": [
       "\n",
       "A matrix: 5 × 2 of type dbl\n",
       "\n",
       "| <!--/--> | 5 % | 95 % |\n",
       "|---|---|---|\n",
       "| (Intercept) | -7.7692473 | 22.7325099 |\n",
       "| Drug2 | -2.4854904 | -0.7256403 |\n",
       "| Drug3 | -1.5861182 |  0.1765182 |\n",
       "| Momweight |  0.1848446 |  0.3424199 |\n",
       "| Dadweight |  0.1166648 |  0.2321789 |\n",
       "\n"
      ],
      "text/plain": [
       "            5 %        95 %      \n",
       "(Intercept) -7.7692473 22.7325099\n",
       "Drug2       -2.4854904 -0.7256403\n",
       "Drug3       -1.5861182  0.1765182\n",
       "Momweight    0.1848446  0.3424199\n",
       "Dadweight    0.1166648  0.2321789"
      ]
     },
     "metadata": {},
     "output_type": "display_data"
    }
   ],
   "source": [
    "# Part d\n",
    "cbind(\n",
    "summary(pig_model1)$coefficient[,1] - qt(0.95, 68) * summary(pig_model1)$coefficient[,2],\n",
    "summary(pig_model1)$coefficient[,1] + qt(0.95, 68) * summary(pig_model1)$coefficient[,2])\n",
    "\n",
    "confint(pig_model1, level = 0.9)"
   ]
  },
  {
   "cell_type": "markdown",
   "metadata": {},
   "source": []
  },
  {
   "cell_type": "code",
   "execution_count": 10,
   "metadata": {},
   "outputs": [
    {
     "data": {
      "text/html": [
       "<table class=\"dataframe\">\n",
       "<caption>A anova: 4 × 5</caption>\n",
       "<thead>\n",
       "\t<tr><th></th><th scope=col>Df</th><th scope=col>Sum Sq</th><th scope=col>Mean Sq</th><th scope=col>F value</th><th scope=col>Pr(&gt;F)</th></tr>\n",
       "\t<tr><th></th><th scope=col>&lt;int&gt;</th><th scope=col>&lt;dbl&gt;</th><th scope=col>&lt;dbl&gt;</th><th scope=col>&lt;dbl&gt;</th><th scope=col>&lt;dbl&gt;</th></tr>\n",
       "</thead>\n",
       "<tbody>\n",
       "\t<tr><th scope=row>Drug</th><td> 2</td><td> 23.71834</td><td>11.859169</td><td> 3.447315</td><td>3.733113e-02</td></tr>\n",
       "\t<tr><th scope=row>Momweight</th><td> 1</td><td> 91.03867</td><td>91.038667</td><td>26.463821</td><td>2.342272e-06</td></tr>\n",
       "\t<tr><th scope=row>Dadweight</th><td> 1</td><td> 87.17500</td><td>87.174999</td><td>25.340700</td><td>3.580316e-06</td></tr>\n",
       "\t<tr><th scope=row>Residuals</th><td>70</td><td>240.80826</td><td> 3.440118</td><td>       NA</td><td>          NA</td></tr>\n",
       "</tbody>\n",
       "</table>\n"
      ],
      "text/latex": [
       "A anova: 4 × 5\n",
       "\\begin{tabular}{r|lllll}\n",
       "  & Df & Sum Sq & Mean Sq & F value & Pr(>F)\\\\\n",
       "  & <int> & <dbl> & <dbl> & <dbl> & <dbl>\\\\\n",
       "\\hline\n",
       "\tDrug &  2 &  23.71834 & 11.859169 &  3.447315 & 3.733113e-02\\\\\n",
       "\tMomweight &  1 &  91.03867 & 91.038667 & 26.463821 & 2.342272e-06\\\\\n",
       "\tDadweight &  1 &  87.17500 & 87.174999 & 25.340700 & 3.580316e-06\\\\\n",
       "\tResiduals & 70 & 240.80826 &  3.440118 &        NA &           NA\\\\\n",
       "\\end{tabular}\n"
      ],
      "text/markdown": [
       "\n",
       "A anova: 4 × 5\n",
       "\n",
       "| <!--/--> | Df &lt;int&gt; | Sum Sq &lt;dbl&gt; | Mean Sq &lt;dbl&gt; | F value &lt;dbl&gt; | Pr(&gt;F) &lt;dbl&gt; |\n",
       "|---|---|---|---|---|---|\n",
       "| Drug |  2 |  23.71834 | 11.859169 |  3.447315 | 3.733113e-02 |\n",
       "| Momweight |  1 |  91.03867 | 91.038667 | 26.463821 | 2.342272e-06 |\n",
       "| Dadweight |  1 |  87.17500 | 87.174999 | 25.340700 | 3.580316e-06 |\n",
       "| Residuals | 70 | 240.80826 |  3.440118 |        NA |           NA |\n",
       "\n"
      ],
      "text/plain": [
       "          Df Sum Sq    Mean Sq   F value   Pr(>F)      \n",
       "Drug       2  23.71834 11.859169  3.447315 3.733113e-02\n",
       "Momweight  1  91.03867 91.038667 26.463821 2.342272e-06\n",
       "Dadweight  1  87.17500 87.174999 25.340700 3.580316e-06\n",
       "Residuals 70 240.80826  3.440118        NA           NA"
      ]
     },
     "metadata": {},
     "output_type": "display_data"
    }
   ],
   "source": [
    "#Part e\n",
    "anova(pig_model1)"
   ]
  },
  {
   "cell_type": "markdown",
   "metadata": {},
   "source": [
    "Part e. i)  \n",
    "$H_0: \\beta_0 = \\beta_1 = \\beta_2 = 0 $  \n",
    "$H_A: \\beta_0 \\neq 0 \\text{ or } \\beta_1 \\neq 0 \\text{ or } \\beta_2 \\neq 0 $ "
   ]
  },
  {
   "cell_type": "code",
   "execution_count": 12,
   "metadata": {},
   "outputs": [
    {
     "data": {
      "image/png": "[encoded data removed]",
      "text/plain": [
       "plot without title"
      ]
     },
     "metadata": {
      "image/png": {
       "height": 420,
       "width": 420
      }
     },
     "output_type": "display_data"
    }
   ],
   "source": [
    "#Part ii\n",
    "\n",
    "plot(df_pigs$Momweight ~ df_pigs$Dadweight)"
   ]
  },
  {
   "cell_type": "code",
   "execution_count": 23,
   "metadata": {},
   "outputs": [
    {
     "data": {
      "text/html": [
       "<style>\n",
       ".list-inline {list-style: none; margin:0; padding: 0}\n",
       ".list-inline>li {display: inline-block}\n",
       ".list-inline>li:not(:last-child)::after {content: \"\\00b7\"; padding: 0 .5ex}\n",
       "</style>\n",
       "<ol class=list-inline><li>-0.725521835739338</li><li>-2.48647816426066</li></ol>\n"
      ],
      "text/latex": [
       "\\begin{enumerate*}\n",
       "\\item -0.725521835739338\n",
       "\\item -2.48647816426066\n",
       "\\end{enumerate*}\n"
      ],
      "text/markdown": [
       "1. -0.725521835739338\n",
       "2. -2.48647816426066\n",
       "\n",
       "\n"
      ],
      "text/plain": [
       "[1] -0.7255218 -2.4864782"
      ]
     },
     "metadata": {},
     "output_type": "display_data"
    }
   ],
   "source": [
    "-1.606 + c(1,-1) * qt(0.95, 68) * 0.528"
   ]
  },
  {
   "cell_type": "code",
   "execution_count": 46,
   "metadata": {},
   "outputs": [
    {
     "data": {
      "text/html": [
       "<style>\n",
       ".list-inline {list-style: none; margin:0; padding: 0}\n",
       ".list-inline>li {display: inline-block}\n",
       ".list-inline>li:not(:last-child)::after {content: \"\\00b7\"; padding: 0 .5ex}\n",
       "</style>\n",
       "<ol class=list-inline><li>'coefficients'</li><li>'residuals'</li><li>'effects'</li><li>'rank'</li><li>'fitted.values'</li><li>'assign'</li><li>'qr'</li><li>'df.residual'</li><li>'contrasts'</li><li>'xlevels'</li><li>'call'</li><li>'terms'</li><li>'model'</li></ol>\n"
      ],
      "text/latex": [
       "\\begin{enumerate*}\n",
       "\\item 'coefficients'\n",
       "\\item 'residuals'\n",
       "\\item 'effects'\n",
       "\\item 'rank'\n",
       "\\item 'fitted.values'\n",
       "\\item 'assign'\n",
       "\\item 'qr'\n",
       "\\item 'df.residual'\n",
       "\\item 'contrasts'\n",
       "\\item 'xlevels'\n",
       "\\item 'call'\n",
       "\\item 'terms'\n",
       "\\item 'model'\n",
       "\\end{enumerate*}\n"
      ],
      "text/markdown": [
       "1. 'coefficients'\n",
       "2. 'residuals'\n",
       "3. 'effects'\n",
       "4. 'rank'\n",
       "5. 'fitted.values'\n",
       "6. 'assign'\n",
       "7. 'qr'\n",
       "8. 'df.residual'\n",
       "9. 'contrasts'\n",
       "10. 'xlevels'\n",
       "11. 'call'\n",
       "12. 'terms'\n",
       "13. 'model'\n",
       "\n",
       "\n"
      ],
      "text/plain": [
       " [1] \"coefficients\"  \"residuals\"     \"effects\"       \"rank\"         \n",
       " [5] \"fitted.values\" \"assign\"        \"qr\"            \"df.residual\"  \n",
       " [9] \"contrasts\"     \"xlevels\"       \"call\"          \"terms\"        \n",
       "[13] \"model\"        "
      ]
     },
     "metadata": {},
     "output_type": "display_data"
    },
    {
     "data": {
      "text/html": [
       "<table class=\"dataframe\">\n",
       "<caption>A matrix: 5 × 2 of type dbl</caption>\n",
       "<tbody>\n",
       "\t<tr><th scope=row>(Intercept)</th><td>-7.7752656</td><td>22.7385283</td></tr>\n",
       "\t<tr><th scope=row>Drug2</th><td>-2.4858376</td><td>-0.7252930</td></tr>\n",
       "\t<tr><th scope=row>Drug3</th><td>-1.5864659</td><td> 0.1768660</td></tr>\n",
       "\t<tr><th scope=row>Momweight</th><td> 0.1848135</td><td> 0.3424510</td></tr>\n",
       "\t<tr><th scope=row>Dadweight</th><td> 0.1166420</td><td> 0.2322017</td></tr>\n",
       "</tbody>\n",
       "</table>\n"
      ],
      "text/latex": [
       "A matrix: 5 × 2 of type dbl\n",
       "\\begin{tabular}{r|ll}\n",
       "\t(Intercept) & -7.7752656 & 22.7385283\\\\\n",
       "\tDrug2 & -2.4858376 & -0.7252930\\\\\n",
       "\tDrug3 & -1.5864659 &  0.1768660\\\\\n",
       "\tMomweight &  0.1848135 &  0.3424510\\\\\n",
       "\tDadweight &  0.1166420 &  0.2322017\\\\\n",
       "\\end{tabular}\n"
      ],
      "text/markdown": [
       "\n",
       "A matrix: 5 × 2 of type dbl\n",
       "\n",
       "| (Intercept) | -7.7752656 | 22.7385283 |\n",
       "| Drug2 | -2.4858376 | -0.7252930 |\n",
       "| Drug3 | -1.5864659 |  0.1768660 |\n",
       "| Momweight |  0.1848135 |  0.3424510 |\n",
       "| Dadweight |  0.1166420 |  0.2322017 |\n",
       "\n"
      ],
      "text/plain": [
       "            [,1]       [,2]      \n",
       "(Intercept) -7.7752656 22.7385283\n",
       "Drug2       -2.4858376 -0.7252930\n",
       "Drug3       -1.5864659  0.1768660\n",
       "Momweight    0.1848135  0.3424510\n",
       "Dadweight    0.1166420  0.2322017"
      ]
     },
     "metadata": {},
     "output_type": "display_data"
    },
    {
     "data": {
      "text/html": [
       "<table class=\"dataframe\">\n",
       "<caption>A matrix: 5 × 2 of type dbl</caption>\n",
       "<thead>\n",
       "\t<tr><th></th><th scope=col>5 %</th><th scope=col>95 %</th></tr>\n",
       "</thead>\n",
       "<tbody>\n",
       "\t<tr><th scope=row>(Intercept)</th><td>-7.7692473</td><td>22.7325099</td></tr>\n",
       "\t<tr><th scope=row>Drug2</th><td>-2.4854904</td><td>-0.7256403</td></tr>\n",
       "\t<tr><th scope=row>Drug3</th><td>-1.5861182</td><td> 0.1765182</td></tr>\n",
       "\t<tr><th scope=row>Momweight</th><td> 0.1848446</td><td> 0.3424199</td></tr>\n",
       "\t<tr><th scope=row>Dadweight</th><td> 0.1166648</td><td> 0.2321789</td></tr>\n",
       "</tbody>\n",
       "</table>\n"
      ],
      "text/latex": [
       "A matrix: 5 × 2 of type dbl\n",
       "\\begin{tabular}{r|ll}\n",
       "  & 5 \\% & 95 \\%\\\\\n",
       "\\hline\n",
       "\t(Intercept) & -7.7692473 & 22.7325099\\\\\n",
       "\tDrug2 & -2.4854904 & -0.7256403\\\\\n",
       "\tDrug3 & -1.5861182 &  0.1765182\\\\\n",
       "\tMomweight &  0.1848446 &  0.3424199\\\\\n",
       "\tDadweight &  0.1166648 &  0.2321789\\\\\n",
       "\\end{tabular}\n"
      ],
      "text/markdown": [
       "\n",
       "A matrix: 5 × 2 of type dbl\n",
       "\n",
       "| <!--/--> | 5 % | 95 % |\n",
       "|---|---|---|\n",
       "| (Intercept) | -7.7692473 | 22.7325099 |\n",
       "| Drug2 | -2.4854904 | -0.7256403 |\n",
       "| Drug3 | -1.5861182 |  0.1765182 |\n",
       "| Momweight |  0.1848446 |  0.3424199 |\n",
       "| Dadweight |  0.1166648 |  0.2321789 |\n",
       "\n"
      ],
      "text/plain": [
       "            5 %        95 %      \n",
       "(Intercept) -7.7692473 22.7325099\n",
       "Drug2       -2.4854904 -0.7256403\n",
       "Drug3       -1.5861182  0.1765182\n",
       "Momweight    0.1848446  0.3424199\n",
       "Dadweight    0.1166648  0.2321789"
      ]
     },
     "metadata": {},
     "output_type": "display_data"
    }
   ],
   "source": [
    "names(pig_model1)\n",
    "cbind(\n",
    "summary(pig_model1)$coefficient[,1] - qt(0.95, 68) * summary(pig_model1)$coefficient[,2],\n",
    "summary(pig_model1)$coefficient[,1] + qt(0.95, 68) * summary(pig_model1)$coefficient[,2])\n",
    "confint(pig_model1, level = 0.90)"
   ]
  },
  {
   "cell_type": "code",
   "execution_count": 35,
   "metadata": {},
   "outputs": [
    {
     "data": {
      "text/html": [
       "<style>\n",
       ".dl-inline {width: auto; margin:0; padding: 0}\n",
       ".dl-inline>dt, .dl-inline>dd {float: none; width: auto; display: inline-block}\n",
       ".dl-inline>dt::after {content: \":\\0020\"; padding-right: .5ex}\n",
       ".dl-inline>dt:not(:first-of-type) {padding-left: .5ex}\n",
       "</style><dl class=dl-inline><dt>(Intercept)</dt><dd>7.48163133049138</dd><dt>Drug2</dt><dd>-1.6055653241773</dd><dt>Drug3</dt><dd>-0.704799984854116</dd><dt>Momweight</dt><dd>0.263632253656633</dd><dt>Dadweight</dt><dd>0.174421872296365</dd></dl>\n"
      ],
      "text/latex": [
       "\\begin{description*}\n",
       "\\item[(Intercept)] 7.48163133049138\n",
       "\\item[Drug2] -1.6055653241773\n",
       "\\item[Drug3] -0.704799984854116\n",
       "\\item[Momweight] 0.263632253656633\n",
       "\\item[Dadweight] 0.174421872296365\n",
       "\\end{description*}\n"
      ],
      "text/markdown": [
       "(Intercept)\n",
       ":   7.48163133049138Drug2\n",
       ":   -1.6055653241773Drug3\n",
       ":   -0.704799984854116Momweight\n",
       ":   0.263632253656633Dadweight\n",
       ":   0.174421872296365\n",
       "\n"
      ],
      "text/plain": [
       "(Intercept)       Drug2       Drug3   Momweight   Dadweight \n",
       "  7.4816313  -1.6055653  -0.7048000   0.2636323   0.1744219 "
      ]
     },
     "metadata": {},
     "output_type": "display_data"
    }
   ],
   "source": [
    "summary(pig_model1)$coefficient[,1]"
   ]
  },
  {
   "cell_type": "code",
   "execution_count": 36,
   "metadata": {},
   "outputs": [
    {
     "data": {
      "text/html": [
       "<style>\n",
       ".dl-inline {width: auto; margin:0; padding: 0}\n",
       ".dl-inline>dt, .dl-inline>dd {float: none; width: auto; display: inline-block}\n",
       ".dl-inline>dt::after {content: \":\\0020\"; padding-right: .5ex}\n",
       ".dl-inline>dt:not(:first-of-type) {padding-left: .5ex}\n",
       "</style><dl class=dl-inline><dt>(Intercept)</dt><dd>9.14916679293601</dd><dt>Drug2</dt><dd>0.527876552060679</dd><dt>Drug3</dt><dd>0.528712289861234</dd><dt>Momweight</dt><dd>0.0472655401846171</dd><dt>Dadweight</dt><dd>0.0346490747391648</dd></dl>\n"
      ],
      "text/latex": [
       "\\begin{description*}\n",
       "\\item[(Intercept)] 9.14916679293601\n",
       "\\item[Drug2] 0.527876552060679\n",
       "\\item[Drug3] 0.528712289861234\n",
       "\\item[Momweight] 0.0472655401846171\n",
       "\\item[Dadweight] 0.0346490747391648\n",
       "\\end{description*}\n"
      ],
      "text/markdown": [
       "(Intercept)\n",
       ":   9.14916679293601Drug2\n",
       ":   0.527876552060679Drug3\n",
       ":   0.528712289861234Momweight\n",
       ":   0.0472655401846171Dadweight\n",
       ":   0.0346490747391648\n",
       "\n"
      ],
      "text/plain": [
       "(Intercept)       Drug2       Drug3   Momweight   Dadweight \n",
       " 9.14916679  0.52787655  0.52871229  0.04726554  0.03464907 "
      ]
     },
     "metadata": {},
     "output_type": "display_data"
    }
   ],
   "source": [
    "summary(pig_model1)$coefficient[,2]"
   ]
  },
  {
   "cell_type": "code",
   "execution_count": 37,
   "metadata": {},
   "outputs": [
    {
     "data": {
      "text/html": [
       "<table class=\"dataframe\">\n",
       "<caption>A matrix: 5 × 4 of type dbl</caption>\n",
       "<thead>\n",
       "\t<tr><th></th><th scope=col>Estimate</th><th scope=col>Std. Error</th><th scope=col>t value</th><th scope=col>Pr(&gt;|t|)</th></tr>\n",
       "</thead>\n",
       "<tbody>\n",
       "\t<tr><th scope=row>(Intercept)</th><td> 7.4816313</td><td>9.14916679</td><td> 0.8177391</td><td>4.162810e-01</td></tr>\n",
       "\t<tr><th scope=row>Drug2</th><td>-1.6055653</td><td>0.52787655</td><td>-3.0415545</td><td>3.311102e-03</td></tr>\n",
       "\t<tr><th scope=row>Drug3</th><td>-0.7048000</td><td>0.52871229</td><td>-1.3330501</td><td>1.868378e-01</td></tr>\n",
       "\t<tr><th scope=row>Momweight</th><td> 0.2636323</td><td>0.04726554</td><td> 5.5776841</td><td>4.282202e-07</td></tr>\n",
       "\t<tr><th scope=row>Dadweight</th><td> 0.1744219</td><td>0.03464907</td><td> 5.0339547</td><td>3.580316e-06</td></tr>\n",
       "</tbody>\n",
       "</table>\n"
      ],
      "text/latex": [
       "A matrix: 5 × 4 of type dbl\n",
       "\\begin{tabular}{r|llll}\n",
       "  & Estimate & Std. Error & t value & Pr(>\\textbar{}t\\textbar{})\\\\\n",
       "\\hline\n",
       "\t(Intercept) &  7.4816313 & 9.14916679 &  0.8177391 & 4.162810e-01\\\\\n",
       "\tDrug2 & -1.6055653 & 0.52787655 & -3.0415545 & 3.311102e-03\\\\\n",
       "\tDrug3 & -0.7048000 & 0.52871229 & -1.3330501 & 1.868378e-01\\\\\n",
       "\tMomweight &  0.2636323 & 0.04726554 &  5.5776841 & 4.282202e-07\\\\\n",
       "\tDadweight &  0.1744219 & 0.03464907 &  5.0339547 & 3.580316e-06\\\\\n",
       "\\end{tabular}\n"
      ],
      "text/markdown": [
       "\n",
       "A matrix: 5 × 4 of type dbl\n",
       "\n",
       "| <!--/--> | Estimate | Std. Error | t value | Pr(&gt;|t|) |\n",
       "|---|---|---|---|---|\n",
       "| (Intercept) |  7.4816313 | 9.14916679 |  0.8177391 | 4.162810e-01 |\n",
       "| Drug2 | -1.6055653 | 0.52787655 | -3.0415545 | 3.311102e-03 |\n",
       "| Drug3 | -0.7048000 | 0.52871229 | -1.3330501 | 1.868378e-01 |\n",
       "| Momweight |  0.2636323 | 0.04726554 |  5.5776841 | 4.282202e-07 |\n",
       "| Dadweight |  0.1744219 | 0.03464907 |  5.0339547 | 3.580316e-06 |\n",
       "\n"
      ],
      "text/plain": [
       "            Estimate   Std. Error t value    Pr(>|t|)    \n",
       "(Intercept)  7.4816313 9.14916679  0.8177391 4.162810e-01\n",
       "Drug2       -1.6055653 0.52787655 -3.0415545 3.311102e-03\n",
       "Drug3       -0.7048000 0.52871229 -1.3330501 1.868378e-01\n",
       "Momweight    0.2636323 0.04726554  5.5776841 4.282202e-07\n",
       "Dadweight    0.1744219 0.03464907  5.0339547 3.580316e-06"
      ]
     },
     "metadata": {},
     "output_type": "display_data"
    }
   ],
   "source": [
    "summary(pig_model1)$coefficient"
   ]
  },
  {
   "cell_type": "code",
   "execution_count": 51,
   "metadata": {},
   "outputs": [
    {
     "data": {
      "text/html": [
       "<table class=\"dataframe\">\n",
       "<caption>A anova: 2 × 6</caption>\n",
       "<thead>\n",
       "\t<tr><th></th><th scope=col>Res.Df</th><th scope=col>RSS</th><th scope=col>Df</th><th scope=col>Sum of Sq</th><th scope=col>F</th><th scope=col>Pr(&gt;F)</th></tr>\n",
       "\t<tr><th></th><th scope=col>&lt;dbl&gt;</th><th scope=col>&lt;dbl&gt;</th><th scope=col>&lt;dbl&gt;</th><th scope=col>&lt;dbl&gt;</th><th scope=col>&lt;dbl&gt;</th><th scope=col>&lt;dbl&gt;</th></tr>\n",
       "</thead>\n",
       "<tbody>\n",
       "\t<tr><th scope=row>1</th><td>72</td><td>272.7022</td><td>NA</td><td>      NA</td><td>      NA</td><td>        NA</td></tr>\n",
       "\t<tr><th scope=row>2</th><td>70</td><td>240.8083</td><td> 2</td><td>31.89399</td><td>4.635595</td><td>0.01286451</td></tr>\n",
       "</tbody>\n",
       "</table>\n"
      ],
      "text/latex": [
       "A anova: 2 × 6\n",
       "\\begin{tabular}{r|llllll}\n",
       "  & Res.Df & RSS & Df & Sum of Sq & F & Pr(>F)\\\\\n",
       "  & <dbl> & <dbl> & <dbl> & <dbl> & <dbl> & <dbl>\\\\\n",
       "\\hline\n",
       "\t1 & 72 & 272.7022 & NA &       NA &       NA &         NA\\\\\n",
       "\t2 & 70 & 240.8083 &  2 & 31.89399 & 4.635595 & 0.01286451\\\\\n",
       "\\end{tabular}\n"
      ],
      "text/markdown": [
       "\n",
       "A anova: 2 × 6\n",
       "\n",
       "| <!--/--> | Res.Df &lt;dbl&gt; | RSS &lt;dbl&gt; | Df &lt;dbl&gt; | Sum of Sq &lt;dbl&gt; | F &lt;dbl&gt; | Pr(&gt;F) &lt;dbl&gt; |\n",
       "|---|---|---|---|---|---|---|\n",
       "| 1 | 72 | 272.7022 | NA |       NA |       NA |         NA |\n",
       "| 2 | 70 | 240.8083 |  2 | 31.89399 | 4.635595 | 0.01286451 |\n",
       "\n"
      ],
      "text/plain": [
       "  Res.Df RSS      Df Sum of Sq F        Pr(>F)    \n",
       "1 72     272.7022 NA       NA        NA         NA\n",
       "2 70     240.8083  2 31.89399  4.635595 0.01286451"
      ]
     },
     "metadata": {},
     "output_type": "display_data"
    },
    {
     "data": {
      "text/html": [
       "<table class=\"dataframe\">\n",
       "<caption>A anova: 2 × 6</caption>\n",
       "<thead>\n",
       "\t<tr><th></th><th scope=col>Res.Df</th><th scope=col>RSS</th><th scope=col>Df</th><th scope=col>Sum of Sq</th><th scope=col>F</th><th scope=col>Pr(&gt;F)</th></tr>\n",
       "\t<tr><th></th><th scope=col>&lt;dbl&gt;</th><th scope=col>&lt;dbl&gt;</th><th scope=col>&lt;dbl&gt;</th><th scope=col>&lt;dbl&gt;</th><th scope=col>&lt;dbl&gt;</th><th scope=col>&lt;dbl&gt;</th></tr>\n",
       "</thead>\n",
       "<tbody>\n",
       "\t<tr><th scope=row>1</th><td>72</td><td>419.0219</td><td>NA</td><td>      NA</td><td>      NA</td><td>          NA</td></tr>\n",
       "\t<tr><th scope=row>2</th><td>70</td><td>240.8083</td><td> 2</td><td>178.2137</td><td>25.90226</td><td>3.803752e-09</td></tr>\n",
       "</tbody>\n",
       "</table>\n"
      ],
      "text/latex": [
       "A anova: 2 × 6\n",
       "\\begin{tabular}{r|llllll}\n",
       "  & Res.Df & RSS & Df & Sum of Sq & F & Pr(>F)\\\\\n",
       "  & <dbl> & <dbl> & <dbl> & <dbl> & <dbl> & <dbl>\\\\\n",
       "\\hline\n",
       "\t1 & 72 & 419.0219 & NA &       NA &       NA &           NA\\\\\n",
       "\t2 & 70 & 240.8083 &  2 & 178.2137 & 25.90226 & 3.803752e-09\\\\\n",
       "\\end{tabular}\n"
      ],
      "text/markdown": [
       "\n",
       "A anova: 2 × 6\n",
       "\n",
       "| <!--/--> | Res.Df &lt;dbl&gt; | RSS &lt;dbl&gt; | Df &lt;dbl&gt; | Sum of Sq &lt;dbl&gt; | F &lt;dbl&gt; | Pr(&gt;F) &lt;dbl&gt; |\n",
       "|---|---|---|---|---|---|---|\n",
       "| 1 | 72 | 419.0219 | NA |       NA |       NA |           NA |\n",
       "| 2 | 70 | 240.8083 |  2 | 178.2137 | 25.90226 | 3.803752e-09 |\n",
       "\n"
      ],
      "text/plain": [
       "  Res.Df RSS      Df Sum of Sq F        Pr(>F)      \n",
       "1 72     419.0219 NA       NA        NA           NA\n",
       "2 70     240.8083  2 178.2137  25.90226 3.803752e-09"
      ]
     },
     "metadata": {},
     "output_type": "display_data"
    },
    {
     "data": {
      "text/html": [
       "<table class=\"dataframe\">\n",
       "<caption>A anova: 4 × 5</caption>\n",
       "<thead>\n",
       "\t<tr><th></th><th scope=col>Df</th><th scope=col>Sum Sq</th><th scope=col>Mean Sq</th><th scope=col>F value</th><th scope=col>Pr(&gt;F)</th></tr>\n",
       "\t<tr><th></th><th scope=col>&lt;int&gt;</th><th scope=col>&lt;dbl&gt;</th><th scope=col>&lt;dbl&gt;</th><th scope=col>&lt;dbl&gt;</th><th scope=col>&lt;dbl&gt;</th></tr>\n",
       "</thead>\n",
       "<tbody>\n",
       "\t<tr><th scope=row>Drug</th><td> 2</td><td> 23.71834</td><td>11.859169</td><td> 3.447315</td><td>3.733113e-02</td></tr>\n",
       "\t<tr><th scope=row>Momweight</th><td> 1</td><td> 91.03867</td><td>91.038667</td><td>26.463821</td><td>2.342272e-06</td></tr>\n",
       "\t<tr><th scope=row>Dadweight</th><td> 1</td><td> 87.17500</td><td>87.174999</td><td>25.340700</td><td>3.580316e-06</td></tr>\n",
       "\t<tr><th scope=row>Residuals</th><td>70</td><td>240.80826</td><td> 3.440118</td><td>       NA</td><td>          NA</td></tr>\n",
       "</tbody>\n",
       "</table>\n"
      ],
      "text/latex": [
       "A anova: 4 × 5\n",
       "\\begin{tabular}{r|lllll}\n",
       "  & Df & Sum Sq & Mean Sq & F value & Pr(>F)\\\\\n",
       "  & <int> & <dbl> & <dbl> & <dbl> & <dbl>\\\\\n",
       "\\hline\n",
       "\tDrug &  2 &  23.71834 & 11.859169 &  3.447315 & 3.733113e-02\\\\\n",
       "\tMomweight &  1 &  91.03867 & 91.038667 & 26.463821 & 2.342272e-06\\\\\n",
       "\tDadweight &  1 &  87.17500 & 87.174999 & 25.340700 & 3.580316e-06\\\\\n",
       "\tResiduals & 70 & 240.80826 &  3.440118 &        NA &           NA\\\\\n",
       "\\end{tabular}\n"
      ],
      "text/markdown": [
       "\n",
       "A anova: 4 × 5\n",
       "\n",
       "| <!--/--> | Df &lt;int&gt; | Sum Sq &lt;dbl&gt; | Mean Sq &lt;dbl&gt; | F value &lt;dbl&gt; | Pr(&gt;F) &lt;dbl&gt; |\n",
       "|---|---|---|---|---|---|\n",
       "| Drug |  2 |  23.71834 | 11.859169 |  3.447315 | 3.733113e-02 |\n",
       "| Momweight |  1 |  91.03867 | 91.038667 | 26.463821 | 2.342272e-06 |\n",
       "| Dadweight |  1 |  87.17500 | 87.174999 | 25.340700 | 3.580316e-06 |\n",
       "| Residuals | 70 | 240.80826 |  3.440118 |        NA |           NA |\n",
       "\n"
      ],
      "text/plain": [
       "          Df Sum Sq    Mean Sq   F value   Pr(>F)      \n",
       "Drug       2  23.71834 11.859169  3.447315 3.733113e-02\n",
       "Momweight  1  91.03867 91.038667 26.463821 2.342272e-06\n",
       "Dadweight  1  87.17500 87.174999 25.340700 3.580316e-06\n",
       "Residuals 70 240.80826  3.440118        NA           NA"
      ]
     },
     "metadata": {},
     "output_type": "display_data"
    }
   ],
   "source": [
    "pig_model_nodrug <- lm(Pigweight ~ Momweight + Dadweight, data = df_pigs)\n",
    "pig_model_noparent <- lm(Pigweight ~ Drug, data = df_pigs)\n",
    "\n",
    "anova(pig_model_nodrug, pig_model1)\n",
    "anova(pig_model_noparent, pig_model1)\n",
    "\n",
    "anova(pig_model1)"
   ]
  },
  {
   "cell_type": "code",
   "execution_count": 52,
   "metadata": {},
   "outputs": [
    {
     "data": {
      "text/plain": [
       "\n",
       "Call:\n",
       "lm(formula = Pigweight ~ Drug, data = df_pigs)\n",
       "\n",
       "Residuals:\n",
       "    Min      1Q  Median      3Q     Max \n",
       "-6.4812 -1.7438  0.0812  1.7138  4.6112 \n",
       "\n",
       "Coefficients:\n",
       "            Estimate Std. Error t value Pr(>|t|)    \n",
       "(Intercept)  73.1512     0.4825 151.614   <2e-16 ***\n",
       "Drug2        -1.2724     0.6823  -1.865   0.0663 .  \n",
       "Drug3        -1.0932     0.6823  -1.602   0.1135    \n",
       "---\n",
       "Signif. codes:  0 ‘***’ 0.001 ‘**’ 0.01 ‘*’ 0.05 ‘.’ 0.1 ‘ ’ 1\n",
       "\n",
       "Residual standard error: 2.412 on 72 degrees of freedom\n",
       "Multiple R-squared:  0.05357,\tAdjusted R-squared:  0.02728 \n",
       "F-statistic: 2.038 on 2 and 72 DF,  p-value: 0.1378\n"
      ]
     },
     "metadata": {},
     "output_type": "display_data"
    }
   ],
   "source": [
    "summary(pig_model_noparent)"
   ]
  },
  {
   "cell_type": "code",
   "execution_count": 53,
   "metadata": {},
   "outputs": [
    {
     "data": {
      "text/html": [
       "<table class=\"dataframe\">\n",
       "<caption>A matrix: 5 × 4 of type dbl</caption>\n",
       "<thead>\n",
       "\t<tr><th></th><th scope=col>Estimate</th><th scope=col>Std. Error</th><th scope=col>t value</th><th scope=col>Pr(&gt;|t|)</th></tr>\n",
       "</thead>\n",
       "<tbody>\n",
       "\t<tr><th scope=row>(Intercept)</th><td> 7.4816313</td><td>9.14916679</td><td> 0.8177391</td><td>4.162810e-01</td></tr>\n",
       "\t<tr><th scope=row>Drug2</th><td>-1.6055653</td><td>0.52787655</td><td>-3.0415545</td><td>3.311102e-03</td></tr>\n",
       "\t<tr><th scope=row>Drug3</th><td>-0.7048000</td><td>0.52871229</td><td>-1.3330501</td><td>1.868378e-01</td></tr>\n",
       "\t<tr><th scope=row>Momweight</th><td> 0.2636323</td><td>0.04726554</td><td> 5.5776841</td><td>4.282202e-07</td></tr>\n",
       "\t<tr><th scope=row>Dadweight</th><td> 0.1744219</td><td>0.03464907</td><td> 5.0339547</td><td>3.580316e-06</td></tr>\n",
       "</tbody>\n",
       "</table>\n"
      ],
      "text/latex": [
       "A matrix: 5 × 4 of type dbl\n",
       "\\begin{tabular}{r|llll}\n",
       "  & Estimate & Std. Error & t value & Pr(>\\textbar{}t\\textbar{})\\\\\n",
       "\\hline\n",
       "\t(Intercept) &  7.4816313 & 9.14916679 &  0.8177391 & 4.162810e-01\\\\\n",
       "\tDrug2 & -1.6055653 & 0.52787655 & -3.0415545 & 3.311102e-03\\\\\n",
       "\tDrug3 & -0.7048000 & 0.52871229 & -1.3330501 & 1.868378e-01\\\\\n",
       "\tMomweight &  0.2636323 & 0.04726554 &  5.5776841 & 4.282202e-07\\\\\n",
       "\tDadweight &  0.1744219 & 0.03464907 &  5.0339547 & 3.580316e-06\\\\\n",
       "\\end{tabular}\n"
      ],
      "text/markdown": [
       "\n",
       "A matrix: 5 × 4 of type dbl\n",
       "\n",
       "| <!--/--> | Estimate | Std. Error | t value | Pr(&gt;|t|) |\n",
       "|---|---|---|---|---|\n",
       "| (Intercept) |  7.4816313 | 9.14916679 |  0.8177391 | 4.162810e-01 |\n",
       "| Drug2 | -1.6055653 | 0.52787655 | -3.0415545 | 3.311102e-03 |\n",
       "| Drug3 | -0.7048000 | 0.52871229 | -1.3330501 | 1.868378e-01 |\n",
       "| Momweight |  0.2636323 | 0.04726554 |  5.5776841 | 4.282202e-07 |\n",
       "| Dadweight |  0.1744219 | 0.03464907 |  5.0339547 | 3.580316e-06 |\n",
       "\n"
      ],
      "text/plain": [
       "            Estimate   Std. Error t value    Pr(>|t|)    \n",
       "(Intercept)  7.4816313 9.14916679  0.8177391 4.162810e-01\n",
       "Drug2       -1.6055653 0.52787655 -3.0415545 3.311102e-03\n",
       "Drug3       -0.7048000 0.52871229 -1.3330501 1.868378e-01\n",
       "Momweight    0.2636323 0.04726554  5.5776841 4.282202e-07\n",
       "Dadweight    0.1744219 0.03464907  5.0339547 3.580316e-06"
      ]
     },
     "metadata": {},
     "output_type": "display_data"
    }
   ],
   "source": [
    "summary(pig_model1)$coefficient"
   ]
  },
  {
   "cell_type": "code",
   "execution_count": 59,
   "metadata": {},
   "outputs": [
    {
     "data": {
      "text/html": [
       "<style>\n",
       ".list-inline {list-style: none; margin:0; padding: 0}\n",
       ".list-inline>li {display: inline-block}\n",
       ".list-inline>li:not(:last-child)::after {content: \"\\00b7\"; padding: 0 .5ex}\n",
       "</style>\n",
       "<ol class=list-inline><li>-2.66270360431126</li><li>0.861172925664895</li></ol>\n"
      ],
      "text/latex": [
       "\\begin{enumerate*}\n",
       "\\item -2.66270360431126\n",
       "\\item 0.861172925664895\n",
       "\\end{enumerate*}\n"
      ],
      "text/markdown": [
       "1. -2.66270360431126\n",
       "2. 0.861172925664895\n",
       "\n",
       "\n"
      ],
      "text/plain": [
       "[1] -2.6627036  0.8611729"
      ]
     },
     "metadata": {},
     "output_type": "display_data"
    }
   ],
   "source": [
    "delta_2_3 <- summary(pig_model1)$coefficient[2,1] - summary(pig_model1)$coefficient[3,1]\n",
    "\n",
    "SE_delta <- summary(pig_model1)$coefficient[2,2] + summary(pig_model1)$coefficient[3,2]\n",
    "\n",
    "t_cv <- qt(0.95, 68)\n",
    "\n",
    "delta_2_3 + c(-1, 1) * SE_delta * t_cv"
   ]
  },
  {
   "cell_type": "code",
   "execution_count": null,
   "metadata": {},
   "outputs": [],
   "source": []
  }
 ],
 "metadata": {
  "kernelspec": {
   "display_name": "R",
   "language": "R",
   "name": "ir"
  },
  "language_info": {
   "codemirror_mode": "r",
   "file_extension": ".r",
   "mimetype": "text/x-r-source",
   "name": "R",
   "pygments_lexer": "r",
   "version": "4.2.0"
  }
 },
 "nbformat": 4,
 "nbformat_minor": 4
}
