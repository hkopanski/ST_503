{
 "cells": [
  {
   "cell_type": "code",
   "execution_count": 1,
   "metadata": {},
   "outputs": [
    {
     "name": "stderr",
     "output_type": "stream",
     "text": [
      "── \u001b[1mAttaching packages\u001b[22m ─────────────────────────────────────── tidyverse 1.3.1 ──\n",
      "\n",
      "\u001b[32m✔\u001b[39m \u001b[34mggplot2\u001b[39m 3.3.6     \u001b[32m✔\u001b[39m \u001b[34mpurrr  \u001b[39m 0.3.4\n",
      "\u001b[32m✔\u001b[39m \u001b[34mtibble \u001b[39m 3.1.7     \u001b[32m✔\u001b[39m \u001b[34mdplyr  \u001b[39m 1.0.9\n",
      "\u001b[32m✔\u001b[39m \u001b[34mtidyr  \u001b[39m 1.2.0     \u001b[32m✔\u001b[39m \u001b[34mstringr\u001b[39m 1.4.0\n",
      "\u001b[32m✔\u001b[39m \u001b[34mreadr  \u001b[39m 2.1.2     \u001b[32m✔\u001b[39m \u001b[34mforcats\u001b[39m 0.5.1\n",
      "\n",
      "── \u001b[1mConflicts\u001b[22m ────────────────────────────────────────── tidyverse_conflicts() ──\n",
      "\u001b[31m✖\u001b[39m \u001b[34mdplyr\u001b[39m::\u001b[32mfilter()\u001b[39m masks \u001b[34mstats\u001b[39m::filter()\n",
      "\u001b[31m✖\u001b[39m \u001b[34mdplyr\u001b[39m::\u001b[32mlag()\u001b[39m    masks \u001b[34mstats\u001b[39m::lag()\n",
      "\n"
     ]
    }
   ],
   "source": [
    "library(faraway)\n",
    "library(tidyverse)"
   ]
  },
  {
   "cell_type": "code",
   "execution_count": 2,
   "metadata": {},
   "outputs": [
    {
     "data": {
      "text/html": [
       "<table class=\"dataframe\">\n",
       "<caption>A data.frame: 6 × 9</caption>\n",
       "<thead>\n",
       "\t<tr><th></th><th scope=col>lcavol</th><th scope=col>lweight</th><th scope=col>age</th><th scope=col>lbph</th><th scope=col>svi</th><th scope=col>lcp</th><th scope=col>gleason</th><th scope=col>pgg45</th><th scope=col>lpsa</th></tr>\n",
       "\t<tr><th></th><th scope=col>&lt;dbl&gt;</th><th scope=col>&lt;dbl&gt;</th><th scope=col>&lt;int&gt;</th><th scope=col>&lt;dbl&gt;</th><th scope=col>&lt;int&gt;</th><th scope=col>&lt;dbl&gt;</th><th scope=col>&lt;int&gt;</th><th scope=col>&lt;int&gt;</th><th scope=col>&lt;dbl&gt;</th></tr>\n",
       "</thead>\n",
       "<tbody>\n",
       "\t<tr><th scope=row>1</th><td>-0.5798185</td><td>2.7695</td><td>50</td><td>-1.386294</td><td>0</td><td>-1.38629</td><td>6</td><td> 0</td><td>-0.43078</td></tr>\n",
       "\t<tr><th scope=row>2</th><td>-0.9942523</td><td>3.3196</td><td>58</td><td>-1.386294</td><td>0</td><td>-1.38629</td><td>6</td><td> 0</td><td>-0.16252</td></tr>\n",
       "\t<tr><th scope=row>3</th><td>-0.5108256</td><td>2.6912</td><td>74</td><td>-1.386294</td><td>0</td><td>-1.38629</td><td>7</td><td>20</td><td>-0.16252</td></tr>\n",
       "\t<tr><th scope=row>4</th><td>-1.2039728</td><td>3.2828</td><td>58</td><td>-1.386294</td><td>0</td><td>-1.38629</td><td>6</td><td> 0</td><td>-0.16252</td></tr>\n",
       "\t<tr><th scope=row>5</th><td> 0.7514161</td><td>3.4324</td><td>62</td><td>-1.386294</td><td>0</td><td>-1.38629</td><td>6</td><td> 0</td><td> 0.37156</td></tr>\n",
       "\t<tr><th scope=row>6</th><td>-1.0498221</td><td>3.2288</td><td>50</td><td>-1.386294</td><td>0</td><td>-1.38629</td><td>6</td><td> 0</td><td> 0.76547</td></tr>\n",
       "</tbody>\n",
       "</table>\n"
      ],
      "text/latex": [
       "A data.frame: 6 × 9\n",
       "\\begin{tabular}{r|lllllllll}\n",
       "  & lcavol & lweight & age & lbph & svi & lcp & gleason & pgg45 & lpsa\\\\\n",
       "  & <dbl> & <dbl> & <int> & <dbl> & <int> & <dbl> & <int> & <int> & <dbl>\\\\\n",
       "\\hline\n",
       "\t1 & -0.5798185 & 2.7695 & 50 & -1.386294 & 0 & -1.38629 & 6 &  0 & -0.43078\\\\\n",
       "\t2 & -0.9942523 & 3.3196 & 58 & -1.386294 & 0 & -1.38629 & 6 &  0 & -0.16252\\\\\n",
       "\t3 & -0.5108256 & 2.6912 & 74 & -1.386294 & 0 & -1.38629 & 7 & 20 & -0.16252\\\\\n",
       "\t4 & -1.2039728 & 3.2828 & 58 & -1.386294 & 0 & -1.38629 & 6 &  0 & -0.16252\\\\\n",
       "\t5 &  0.7514161 & 3.4324 & 62 & -1.386294 & 0 & -1.38629 & 6 &  0 &  0.37156\\\\\n",
       "\t6 & -1.0498221 & 3.2288 & 50 & -1.386294 & 0 & -1.38629 & 6 &  0 &  0.76547\\\\\n",
       "\\end{tabular}\n"
      ],
      "text/markdown": [
       "\n",
       "A data.frame: 6 × 9\n",
       "\n",
       "| <!--/--> | lcavol &lt;dbl&gt; | lweight &lt;dbl&gt; | age &lt;int&gt; | lbph &lt;dbl&gt; | svi &lt;int&gt; | lcp &lt;dbl&gt; | gleason &lt;int&gt; | pgg45 &lt;int&gt; | lpsa &lt;dbl&gt; |\n",
       "|---|---|---|---|---|---|---|---|---|---|\n",
       "| 1 | -0.5798185 | 2.7695 | 50 | -1.386294 | 0 | -1.38629 | 6 |  0 | -0.43078 |\n",
       "| 2 | -0.9942523 | 3.3196 | 58 | -1.386294 | 0 | -1.38629 | 6 |  0 | -0.16252 |\n",
       "| 3 | -0.5108256 | 2.6912 | 74 | -1.386294 | 0 | -1.38629 | 7 | 20 | -0.16252 |\n",
       "| 4 | -1.2039728 | 3.2828 | 58 | -1.386294 | 0 | -1.38629 | 6 |  0 | -0.16252 |\n",
       "| 5 |  0.7514161 | 3.4324 | 62 | -1.386294 | 0 | -1.38629 | 6 |  0 |  0.37156 |\n",
       "| 6 | -1.0498221 | 3.2288 | 50 | -1.386294 | 0 | -1.38629 | 6 |  0 |  0.76547 |\n",
       "\n"
      ],
      "text/plain": [
       "  lcavol     lweight age lbph      svi lcp      gleason pgg45 lpsa    \n",
       "1 -0.5798185 2.7695  50  -1.386294 0   -1.38629 6        0    -0.43078\n",
       "2 -0.9942523 3.3196  58  -1.386294 0   -1.38629 6        0    -0.16252\n",
       "3 -0.5108256 2.6912  74  -1.386294 0   -1.38629 7       20    -0.16252\n",
       "4 -1.2039728 3.2828  58  -1.386294 0   -1.38629 6        0    -0.16252\n",
       "5  0.7514161 3.4324  62  -1.386294 0   -1.38629 6        0     0.37156\n",
       "6 -1.0498221 3.2288  50  -1.386294 0   -1.38629 6        0     0.76547"
      ]
     },
     "metadata": {},
     "output_type": "display_data"
    }
   ],
   "source": [
    "prostate %>% head()"
   ]
  },
  {
   "cell_type": "code",
   "execution_count": 3,
   "metadata": {},
   "outputs": [
    {
     "data": {
      "text/plain": [
       "\n",
       "Call:\n",
       "lm(formula = lpsa ~ lcavol + lweight + age, data = prostate)\n",
       "\n",
       "Residuals:\n",
       "     Min       1Q   Median       3Q      Max \n",
       "-1.60894 -0.44897 -0.02805  0.45602  1.91756 \n",
       "\n",
       "Coefficients:\n",
       "             Estimate Std. Error t value Pr(>|t|)    \n",
       "(Intercept)  0.146917   0.772374   0.190  0.84956    \n",
       "lcavol       0.687819   0.067418  10.202  < 2e-16 ***\n",
       "lweight      0.549941   0.163838   3.357  0.00114 ** \n",
       "age         -0.009486   0.011003  -0.862  0.39082    \n",
       "---\n",
       "Signif. codes:  0 ‘***’ 0.001 ‘**’ 0.01 ‘*’ 0.05 ‘.’ 0.1 ‘ ’ 1\n",
       "\n",
       "Residual standard error: 0.7517 on 93 degrees of freedom\n",
       "Multiple R-squared:  0.5892,\tAdjusted R-squared:  0.576 \n",
       "F-statistic: 44.47 on 3 and 93 DF,  p-value: < 2.2e-16\n"
      ]
     },
     "metadata": {},
     "output_type": "display_data"
    }
   ],
   "source": [
    "pros_model1 <- lm(lpsa ~ lcavol + lweight + age, data = prostate)\n",
    "summary(pros_model1)"
   ]
  },
  {
   "cell_type": "code",
   "execution_count": 5,
   "metadata": {},
   "outputs": [
    {
     "data": {
      "text/html": [
       "<style>\n",
       ".list-inline {list-style: none; margin:0; padding: 0}\n",
       ".list-inline>li {display: inline-block}\n",
       ".list-inline>li:not(:last-child)::after {content: \"\\00b7\"; padding: 0 .5ex}\n",
       "</style>\n",
       "<ol class=list-inline><li>'call'</li><li>'terms'</li><li>'residuals'</li><li>'coefficients'</li><li>'aliased'</li><li>'sigma'</li><li>'df'</li><li>'r.squared'</li><li>'adj.r.squared'</li><li>'fstatistic'</li><li>'cov.unscaled'</li></ol>\n"
      ],
      "text/latex": [
       "\\begin{enumerate*}\n",
       "\\item 'call'\n",
       "\\item 'terms'\n",
       "\\item 'residuals'\n",
       "\\item 'coefficients'\n",
       "\\item 'aliased'\n",
       "\\item 'sigma'\n",
       "\\item 'df'\n",
       "\\item 'r.squared'\n",
       "\\item 'adj.r.squared'\n",
       "\\item 'fstatistic'\n",
       "\\item 'cov.unscaled'\n",
       "\\end{enumerate*}\n"
      ],
      "text/markdown": [
       "1. 'call'\n",
       "2. 'terms'\n",
       "3. 'residuals'\n",
       "4. 'coefficients'\n",
       "5. 'aliased'\n",
       "6. 'sigma'\n",
       "7. 'df'\n",
       "8. 'r.squared'\n",
       "9. 'adj.r.squared'\n",
       "10. 'fstatistic'\n",
       "11. 'cov.unscaled'\n",
       "\n",
       "\n"
      ],
      "text/plain": [
       " [1] \"call\"          \"terms\"         \"residuals\"     \"coefficients\" \n",
       " [5] \"aliased\"       \"sigma\"         \"df\"            \"r.squared\"    \n",
       " [9] \"adj.r.squared\" \"fstatistic\"    \"cov.unscaled\" "
      ]
     },
     "metadata": {},
     "output_type": "display_data"
    }
   ],
   "source": [
    "names(summary(pros_model1))"
   ]
  },
  {
   "cell_type": "code",
   "execution_count": 8,
   "metadata": {},
   "outputs": [
    {
     "data": {
      "text/html": [
       "0.547357039363865"
      ],
      "text/latex": [
       "0.547357039363865"
      ],
      "text/markdown": [
       "0.547357039363865"
      ],
      "text/plain": [
       "[1] 0.547357"
      ]
     },
     "metadata": {},
     "output_type": "display_data"
    },
    {
     "data": {
      "text/html": [
       "0.739835819194951"
      ],
      "text/latex": [
       "0.739835819194951"
      ],
      "text/markdown": [
       "0.739835819194951"
      ],
      "text/plain": [
       "[1] 0.7398358"
      ]
     },
     "metadata": {},
     "output_type": "display_data"
    }
   ],
   "source": [
    "var(summary(pros_model1)$residuals)\n",
    "sd(summary(pros_model1)$residuals)"
   ]
  },
  {
   "cell_type": "code",
   "execution_count": 30,
   "metadata": {},
   "outputs": [
    {
     "data": {
      "text/html": [
       "0.75167394397639"
      ],
      "text/latex": [
       "0.75167394397639"
      ],
      "text/markdown": [
       "0.75167394397639"
      ],
      "text/plain": [
       "[1] 0.7516739"
      ]
     },
     "metadata": {},
     "output_type": "display_data"
    }
   ],
   "source": [
    "sqrt(sum((pros_model1$fitted.values - prostate$lpsa)^2)/(nrow(prostate) - 4))"
   ]
  },
  {
   "cell_type": "code",
   "execution_count": 35,
   "metadata": {},
   "outputs": [
    {
     "name": "stdout",
     "output_type": "stream",
     "text": [
      "[1] 0.5892177\n"
     ]
    }
   ],
   "source": [
    "R_squared <- 1 - sum((pros_model1$fitted.values - prostate$lpsa)^2) / sum((prostate$lpsa - mean(prostate$lpsa))^2)\n",
    "print(R_squared)"
   ]
  },
  {
   "cell_type": "code",
   "execution_count": 45,
   "metadata": {},
   "outputs": [
    {
     "data": {
      "text/html": [
       "0.575966686987738"
      ],
      "text/latex": [
       "0.575966686987738"
      ],
      "text/markdown": [
       "0.575966686987738"
      ],
      "text/plain": [
       "[1] 0.5759667"
      ]
     },
     "metadata": {},
     "output_type": "display_data"
    }
   ],
   "source": [
    "1 - ((nrow(prostate) - 1)/(nrow(prostate) - 4))*(1 - R_squared)"
   ]
  },
  {
   "cell_type": "code",
   "execution_count": 83,
   "metadata": {},
   "outputs": [
    {
     "data": {
      "text/html": [
       "0.390834419179922"
      ],
      "text/latex": [
       "0.390834419179922"
      ],
      "text/markdown": [
       "0.390834419179922"
      ],
      "text/plain": [
       "[1] 0.3908344"
      ]
     },
     "metadata": {},
     "output_type": "display_data"
    }
   ],
   "source": [
    "pt(-0.009486/0.011003, nrow(prostate) - 4) * 2"
   ]
  },
  {
   "cell_type": "code",
   "execution_count": 64,
   "metadata": {},
   "outputs": [
    {
     "data": {
      "text/html": [
       "-0.862128510406253"
      ],
      "text/latex": [
       "-0.862128510406253"
      ],
      "text/markdown": [
       "-0.862128510406253"
      ],
      "text/plain": [
       "[1] -0.8621285"
      ]
     },
     "metadata": {},
     "output_type": "display_data"
    }
   ],
   "source": [
    "-0.009486/0.011003"
   ]
  },
  {
   "cell_type": "code",
   "execution_count": 84,
   "metadata": {},
   "outputs": [
    {
     "data": {
      "text/plain": [
       "\n",
       "\n",
       "| df_vector|        SS|         MS|   F_stat| p_value|\n",
       "|---------:|---------:|----------:|--------:|-------:|\n",
       "|         3|  75.37131| 25.1237694| 44.46577|       0|\n",
       "|        93|  52.54628|  0.5650137|       NA|      NA|\n",
       "|        96| 127.91758|         NA|       NA|      NA|"
      ]
     },
     "metadata": {},
     "output_type": "display_data"
    }
   ],
   "source": [
    "SST <- sum((prostate$lpsa - mean(prostate$lpsa))^2)\n",
    "SSR <- sum((pros_model1$fitted.values - mean(prostate$lpsa))^2)\n",
    "SSE <- sum((prostate$lpsa - pros_model1$fitted.values)^2)\n",
    "MSR <- SSR/(pros_model1$rank - 1)\n",
    "MSE <- SSE/(nrow(prostate) - pros_model1$rank)\n",
    "df_vector <- c(pros_model1$rank - 1, nrow(prostate) - pros_model1$rank, nrow(prostate) - 1)\n",
    "SS <- c(SSR, SSE, SST)\n",
    "\n",
    "anova_table <- as_tibble(cbind(df_vector, SS))\n",
    "\n",
    "anova_table <- anova_table %>% mutate(MS = SS/df_vector)\n",
    "\n",
    "anova_table[3,3] <- NA\n",
    "\n",
    "F_stat <- c(as.numeric(anova_table[1,3] / anova_table[2,3]), NA, NA)\n",
    "\n",
    "p_value <- c(1 - (pf(F_stat[1], (pros_model1$rank - 1) , (nrow(prostate) - pros_model1$rank))), NA, NA)\n",
    "\n",
    "anova_table <- cbind(anova_table, F_stat, p_value)\n",
    "\n",
    "knitr::kable(anova_table)"
   ]
  },
  {
   "cell_type": "code",
   "execution_count": 85,
   "metadata": {},
   "outputs": [
    {
     "data": {
      "text/plain": [
       "Call:\n",
       "   aov(formula = pros_model1)\n",
       "\n",
       "Terms:\n",
       "                  lcavol  lweight      age Residuals\n",
       "Sum of Squares  69.00283  5.94850  0.41998  52.54628\n",
       "Deg. of Freedom        1        1        1        93\n",
       "\n",
       "Residual standard error: 0.7516739\n",
       "Estimated effects may be unbalanced"
      ]
     },
     "metadata": {},
     "output_type": "display_data"
    }
   ],
   "source": [
    "aov(pros_model1)"
   ]
  },
  {
   "cell_type": "code",
   "execution_count": 126,
   "metadata": {},
   "outputs": [
    {
     "data": {
      "text/plain": [
       "\n",
       "\n",
       "|   |          |           |         |\n",
       "|--:|---------:|----------:|--------:|\n",
       "|  3|  75.37131| 25.1237694| 44.46577|\n",
       "| 93|  52.54628|  0.5650137|       NA|\n",
       "| 96| 127.91758|         NA|       NA|"
      ]
     },
     "metadata": {},
     "output_type": "display_data"
    }
   ],
   "source": [
    "temp_model <- pros_model1\n",
    "\n",
    "y_values <- unlist(temp_model$model[1])\n",
    "\n",
    "SST <- sum((y_values - mean(y_values))^2)\n",
    "SSR <- sum((temp_model$fitted.values - mean(y_values))^2)\n",
    "SSE <- sum((y_values - temp_model$fitted.values)^2)\n",
    "\n",
    "n <- length(y_values)\n",
    "p <- temp_model$rank\n",
    "\n",
    "MSR <- SSR/(p - 1)\n",
    "MSE <- SSE/(n - p)\n",
    "\n",
    "f_stat <- MSR/MSE\n",
    "\n",
    "anova_table <- matrix(cbind(c(p - 1, n - p, n - 1), c(SSR, SSE, SST), c(MSR, MSE, NA), c(f_stat, NA, NA)), nrow = 3)\n",
    "knitr::kable(anova_table)"
   ]
  },
  {
   "cell_type": "code",
   "execution_count": 158,
   "metadata": {},
   "outputs": [],
   "source": [
    "anova_data <- function(temp_model){\n",
    "    y_values <- unlist(temp_model$model[1])\n",
    "    SST <- sum((y_values - mean(y_values))^2)\n",
    "    SSR <- sum((temp_model$fitted.values - mean(y_values))^2)\n",
    "    SSE <- sum((y_values - temp_model$fitted.values)^2)\n",
    "    n <- length(y_values)\n",
    "    p <- temp_model$rank\n",
    "    MSR <- SSR/(p - 1)\n",
    "    MSE <- SSE/(n - p)\n",
    "    f_stat <- MSR/MSE\n",
    "    p_value <- 1 - pf(f_stat, p - 1, n - p)\n",
    "    \n",
    "    anova_table <- matrix(cbind(c(p - 1, n - p, n - 1), \n",
    "                                c(SSR, SSE, SST), \n",
    "                                c(MSR, MSE, NA), \n",
    "                                c(f_stat, NA, NA),\n",
    "                                c(p_value, NA, NA)), ncol = 5)\n",
    "}"
   ]
  },
  {
   "cell_type": "code",
   "execution_count": 159,
   "metadata": {},
   "outputs": [
    {
     "name": "stdout",
     "output_type": "stream",
     "text": [
      "     [,1]       [,2]     [,3]     [,4]      [,5]\n",
      "[1,]    2   5.096313 2.548157 1.950206 0.1479575\n",
      "[2,]   94 122.821270 1.306609       NA        NA\n",
      "[3,]   96 127.917584       NA       NA        NA\n"
     ]
    }
   ],
   "source": [
    "print(anova_data(lm(lpsa ~ age + I(age^2), data = prostate)))"
   ]
  },
  {
   "cell_type": "code",
   "execution_count": 160,
   "metadata": {},
   "outputs": [
    {
     "name": "stdout",
     "output_type": "stream",
     "text": [
      "     [,1]      [,2]       [,3]     [,4] [,5]\n",
      "[1,]    3  75.37131 25.1237694 44.46577    0\n",
      "[2,]   93  52.54628  0.5650137       NA   NA\n",
      "[3,]   96 127.91758         NA       NA   NA\n"
     ]
    }
   ],
   "source": [
    "print(anova_data(pros_model1))"
   ]
  },
  {
   "cell_type": "code",
   "execution_count": 161,
   "metadata": {},
   "outputs": [],
   "source": [
    "age_model <- lm(age ~ lcavol + lweight, data = prostate)"
   ]
  },
  {
   "cell_type": "code",
   "execution_count": 163,
   "metadata": {},
   "outputs": [
    {
     "data": {
      "image/png": "[encoded data removed]",
      "text/plain": [
       "plot without title"
      ]
     },
     "metadata": {
      "image/png": {
       "height": 420,
       "width": 420
      }
     },
     "output_type": "display_data"
    }
   ],
   "source": [
    "plot(x = age_model$residuals, y = pros_model1$residual)"
   ]
  },
  {
   "cell_type": "code",
   "execution_count": 169,
   "metadata": {},
   "outputs": [
    {
     "data": {
      "text/html": [
       "<table class=\"dataframe\">\n",
       "<caption>A matrix: 4 × 2 of type dbl</caption>\n",
       "<thead>\n",
       "\t<tr><th></th><th scope=col>2.5 %</th><th scope=col>97.5 %</th></tr>\n",
       "</thead>\n",
       "<tbody>\n",
       "\t<tr><th scope=row>(Intercept)</th><td>-1.38686529</td><td>1.68069910</td></tr>\n",
       "\t<tr><th scope=row>lcavol</th><td> 0.55393886</td><td>0.82169816</td></tr>\n",
       "\t<tr><th scope=row>lweight</th><td> 0.22459163</td><td>0.87529076</td></tr>\n",
       "\t<tr><th scope=row>age</th><td>-0.03133628</td><td>0.01236357</td></tr>\n",
       "</tbody>\n",
       "</table>\n"
      ],
      "text/latex": [
       "A matrix: 4 × 2 of type dbl\n",
       "\\begin{tabular}{r|ll}\n",
       "  & 2.5 \\% & 97.5 \\%\\\\\n",
       "\\hline\n",
       "\t(Intercept) & -1.38686529 & 1.68069910\\\\\n",
       "\tlcavol &  0.55393886 & 0.82169816\\\\\n",
       "\tlweight &  0.22459163 & 0.87529076\\\\\n",
       "\tage & -0.03133628 & 0.01236357\\\\\n",
       "\\end{tabular}\n"
      ],
      "text/markdown": [
       "\n",
       "A matrix: 4 × 2 of type dbl\n",
       "\n",
       "| <!--/--> | 2.5 % | 97.5 % |\n",
       "|---|---|---|\n",
       "| (Intercept) | -1.38686529 | 1.68069910 |\n",
       "| lcavol |  0.55393886 | 0.82169816 |\n",
       "| lweight |  0.22459163 | 0.87529076 |\n",
       "| age | -0.03133628 | 0.01236357 |\n",
       "\n"
      ],
      "text/plain": [
       "            2.5 %       97.5 %    \n",
       "(Intercept) -1.38686529 1.68069910\n",
       "lcavol       0.55393886 0.82169816\n",
       "lweight      0.22459163 0.87529076\n",
       "age         -0.03133628 0.01236357"
      ]
     },
     "metadata": {},
     "output_type": "display_data"
    },
    {
     "data": {
      "text/html": [
       "<table class=\"dataframe\">\n",
       "<caption>A matrix: 4 × 2 of type dbl</caption>\n",
       "<thead>\n",
       "\t<tr><th></th><th scope=col>2.5 %</th><th scope=col>97.5 %</th></tr>\n",
       "</thead>\n",
       "<tbody>\n",
       "\t<tr><th scope=row>(Intercept)</th><td>-1.38686529</td><td>1.68069910</td></tr>\n",
       "\t<tr><th scope=row>lcavol</th><td> 0.55393886</td><td>0.82169816</td></tr>\n",
       "\t<tr><th scope=row>lweight</th><td> 0.22459163</td><td>0.87529076</td></tr>\n",
       "\t<tr><th scope=row>age</th><td>-0.03133628</td><td>0.01236357</td></tr>\n",
       "</tbody>\n",
       "</table>\n"
      ],
      "text/latex": [
       "A matrix: 4 × 2 of type dbl\n",
       "\\begin{tabular}{r|ll}\n",
       "  & 2.5 \\% & 97.5 \\%\\\\\n",
       "\\hline\n",
       "\t(Intercept) & -1.38686529 & 1.68069910\\\\\n",
       "\tlcavol &  0.55393886 & 0.82169816\\\\\n",
       "\tlweight &  0.22459163 & 0.87529076\\\\\n",
       "\tage & -0.03133628 & 0.01236357\\\\\n",
       "\\end{tabular}\n"
      ],
      "text/markdown": [
       "\n",
       "A matrix: 4 × 2 of type dbl\n",
       "\n",
       "| <!--/--> | 2.5 % | 97.5 % |\n",
       "|---|---|---|\n",
       "| (Intercept) | -1.38686529 | 1.68069910 |\n",
       "| lcavol |  0.55393886 | 0.82169816 |\n",
       "| lweight |  0.22459163 | 0.87529076 |\n",
       "| age | -0.03133628 | 0.01236357 |\n",
       "\n"
      ],
      "text/plain": [
       "            2.5 %       97.5 %    \n",
       "(Intercept) -1.38686529 1.68069910\n",
       "lcavol       0.55393886 0.82169816\n",
       "lweight      0.22459163 0.87529076\n",
       "age         -0.03133628 0.01236357"
      ]
     },
     "metadata": {},
     "output_type": "display_data"
    }
   ],
   "source": [
    "confint(pros_model1, interval = \"prediction\")\n",
    "confint(pros_model1, interval = \"confidence\")"
   ]
  },
  {
   "cell_type": "code",
   "execution_count": 204,
   "metadata": {},
   "outputs": [
    {
     "data": {
      "image/png": "[encoded data removed]",
      "text/plain": [
       "Plot with title “Normal Q-Q Plot”"
      ]
     },
     "metadata": {
      "image/png": {
       "height": 420,
       "width": 420
      }
     },
     "output_type": "display_data"
    },
    {
     "data": {
      "image/png": "[encoded data removed]",
      "text/plain": [
       "Plot with title “Normal Q-Q Plot”"
      ]
     },
     "metadata": {
      "image/png": {
       "height": 420,
       "width": 420
      }
     },
     "output_type": "display_data"
    },
    {
     "data": {
      "image/png": "[encoded data removed]",
      "text/plain": [
       "Plot with title “Histogram of heavy_tails”"
      ]
     },
     "metadata": {
      "image/png": {
       "height": 420,
       "width": 420
      }
     },
     "output_type": "display_data"
    },
    {
     "data": {
      "image/png": "[encoded data removed]",
      "text/plain": [
       "Plot with title “Normal Q-Q Plot”"
      ]
     },
     "metadata": {
      "image/png": {
       "height": 420,
       "width": 420
      }
     },
     "output_type": "display_data"
    },
    {
     "data": {
      "image/png": "[encoded data removed]",
      "text/plain": [
       "Plot with title “Histogram of left_skew”"
      ]
     },
     "metadata": {
      "image/png": {
       "height": 420,
       "width": 420
      }
     },
     "output_type": "display_data"
    },
    {
     "data": {
      "image/png": "[encoded data removed]",
      "text/plain": [
       "Plot with title “Normal Q-Q Plot”"
      ]
     },
     "metadata": {
      "image/png": {
       "height": 420,
       "width": 420
      }
     },
     "output_type": "display_data"
    },
    {
     "data": {
      "text/html": [
       "-0.708760720331557"
      ],
      "text/latex": [
       "-0.708760720331557"
      ],
      "text/markdown": [
       "-0.708760720331557"
      ],
      "text/plain": [
       "[1] -0.7087607"
      ]
     },
     "metadata": {},
     "output_type": "display_data"
    },
    {
     "data": {
      "image/png": "[encoded data removed]",
      "text/plain": [
       "Plot with title “Histogram of right_skew”"
      ]
     },
     "metadata": {
      "image/png": {
       "height": 420,
       "width": 420
      }
     },
     "output_type": "display_data"
    }
   ],
   "source": [
    "normal_data <- rnorm(1000, 0, 2)\n",
    "heavy_tails <- rt(1000, 5)\n",
    "right_skew <- rexp(1000, 5)\n",
    "left_skew <- append(rnorm(250, -8, 10), rnorm(750, 2, 3))\n",
    "\n",
    "qqnorm(normal_data)\n",
    "qqline(normal_data)\n",
    "\n",
    "qqnorm(heavy_tails)\n",
    "qqline(heavy_tails)\n",
    "\n",
    "hist(heavy_tails)\n",
    "\n",
    "qqnorm(left_skew)\n",
    "qqline(left_skew)\n",
    "\n",
    "hist(left_skew)\n",
    "\n",
    "qqnorm(right_skew)\n",
    "qqline(right_skew)\n",
    "\n",
    "hist(right_skew)\n",
    "mean(left_skew)\n"
   ]
  },
  {
   "cell_type": "code",
   "execution_count": 186,
   "metadata": {},
   "outputs": [
    {
     "name": "stdout",
     "output_type": "stream",
     "text": [
      "     [,1]      [,2]       [,3]     [,4] [,5]\n",
      "[1,]    3  75.37131 25.1237694 44.46577    0\n",
      "[2,]   93  52.54628  0.5650137       NA   NA\n",
      "[3,]   96 127.91758         NA       NA   NA\n",
      "Analysis of Variance Table\n",
      "\n",
      "Response: lpsa\n",
      "          Df Sum Sq Mean Sq  F value    Pr(>F)    \n",
      "lcavol     1 69.003  69.003 122.1259 < 2.2e-16 ***\n",
      "lweight    1  5.949   5.949  10.5281  0.001634 ** \n",
      "age        1  0.420   0.420   0.7433  0.390820    \n",
      "Residuals 93 52.546   0.565                       \n",
      "---\n",
      "Signif. codes:  0 ‘***’ 0.001 ‘**’ 0.01 ‘*’ 0.05 ‘.’ 0.1 ‘ ’ 1\n"
     ]
    }
   ],
   "source": [
    "print(anova_data(pros_model1))\n",
    "print(anova(pros_model1))"
   ]
  },
  {
   "cell_type": "code",
   "execution_count": 216,
   "metadata": {},
   "outputs": [
    {
     "data": {
      "text/html": [
       "<table class=\"dataframe\">\n",
       "<caption>A anova: 2 × 6</caption>\n",
       "<thead>\n",
       "\t<tr><th></th><th scope=col>Res.Df</th><th scope=col>RSS</th><th scope=col>Df</th><th scope=col>Sum of Sq</th><th scope=col>F</th><th scope=col>Pr(&gt;F)</th></tr>\n",
       "\t<tr><th></th><th scope=col>&lt;dbl&gt;</th><th scope=col>&lt;dbl&gt;</th><th scope=col>&lt;dbl&gt;</th><th scope=col>&lt;dbl&gt;</th><th scope=col>&lt;dbl&gt;</th><th scope=col>&lt;dbl&gt;</th></tr>\n",
       "</thead>\n",
       "<tbody>\n",
       "\t<tr><th scope=row>1</th><td>53931</td><td>90263944583</td><td>NA</td><td>       NA</td><td>      NA</td><td>          NA</td></tr>\n",
       "\t<tr><th scope=row>2</th><td>53930</td><td>89905722556</td><td> 1</td><td>358222027</td><td>214.8797</td><td>1.468538e-48</td></tr>\n",
       "</tbody>\n",
       "</table>\n"
      ],
      "text/latex": [
       "A anova: 2 × 6\n",
       "\\begin{tabular}{r|llllll}\n",
       "  & Res.Df & RSS & Df & Sum of Sq & F & Pr(>F)\\\\\n",
       "  & <dbl> & <dbl> & <dbl> & <dbl> & <dbl> & <dbl>\\\\\n",
       "\\hline\n",
       "\t1 & 53931 & 90263944583 & NA &        NA &       NA &           NA\\\\\n",
       "\t2 & 53930 & 89905722556 &  1 & 358222027 & 214.8797 & 1.468538e-48\\\\\n",
       "\\end{tabular}\n"
      ],
      "text/markdown": [
       "\n",
       "A anova: 2 × 6\n",
       "\n",
       "| <!--/--> | Res.Df &lt;dbl&gt; | RSS &lt;dbl&gt; | Df &lt;dbl&gt; | Sum of Sq &lt;dbl&gt; | F &lt;dbl&gt; | Pr(&gt;F) &lt;dbl&gt; |\n",
       "|---|---|---|---|---|---|---|\n",
       "| 1 | 53931 | 90263944583 | NA |        NA |       NA |           NA |\n",
       "| 2 | 53930 | 89905722556 |  1 | 358222027 | 214.8797 | 1.468538e-48 |\n",
       "\n"
      ],
      "text/plain": [
       "  Res.Df RSS         Df Sum of Sq F        Pr(>F)      \n",
       "1 53931  90263944583 NA        NA       NA           NA\n",
       "2 53930  89905722556  1 358222027 214.8797 1.468538e-48"
      ]
     },
     "metadata": {},
     "output_type": "display_data"
    }
   ],
   "source": [
    "diamond_model1 <- lm(price ~ carat + clarity, data = diamonds)\n",
    "diamond_model2 <- lm(price ~ carat + clarity + depth, data = diamonds)\n",
    "anova(diamond_model1, diamond_model2)"
   ]
  },
  {
   "cell_type": "code",
   "execution_count": 225,
   "metadata": {},
   "outputs": [
    {
     "data": {
      "text/html": [
       "<table class=\"dataframe\">\n",
       "<caption>A anova: 2 × 6</caption>\n",
       "<thead>\n",
       "\t<tr><th></th><th scope=col>Res.Df</th><th scope=col>RSS</th><th scope=col>Df</th><th scope=col>Sum of Sq</th><th scope=col>F</th><th scope=col>Pr(&gt;F)</th></tr>\n",
       "\t<tr><th></th><th scope=col>&lt;dbl&gt;</th><th scope=col>&lt;dbl&gt;</th><th scope=col>&lt;dbl&gt;</th><th scope=col>&lt;dbl&gt;</th><th scope=col>&lt;dbl&gt;</th><th scope=col>&lt;dbl&gt;</th></tr>\n",
       "</thead>\n",
       "<tbody>\n",
       "\t<tr><th scope=row>1</th><td>19</td><td>319.1161</td><td>NA</td><td>      NA</td><td>      NA</td><td>         NA</td></tr>\n",
       "\t<tr><th scope=row>2</th><td>18</td><td>188.7953</td><td> 1</td><td>130.3208</td><td>12.42496</td><td>0.002419146</td></tr>\n",
       "</tbody>\n",
       "</table>\n"
      ],
      "text/latex": [
       "A anova: 2 × 6\n",
       "\\begin{tabular}{r|llllll}\n",
       "  & Res.Df & RSS & Df & Sum of Sq & F & Pr(>F)\\\\\n",
       "  & <dbl> & <dbl> & <dbl> & <dbl> & <dbl> & <dbl>\\\\\n",
       "\\hline\n",
       "\t1 & 19 & 319.1161 & NA &       NA &       NA &          NA\\\\\n",
       "\t2 & 18 & 188.7953 &  1 & 130.3208 & 12.42496 & 0.002419146\\\\\n",
       "\\end{tabular}\n"
      ],
      "text/markdown": [
       "\n",
       "A anova: 2 × 6\n",
       "\n",
       "| <!--/--> | Res.Df &lt;dbl&gt; | RSS &lt;dbl&gt; | Df &lt;dbl&gt; | Sum of Sq &lt;dbl&gt; | F &lt;dbl&gt; | Pr(&gt;F) &lt;dbl&gt; |\n",
       "|---|---|---|---|---|---|---|\n",
       "| 1 | 19 | 319.1161 | NA |       NA |       NA |          NA |\n",
       "| 2 | 18 | 188.7953 |  1 | 130.3208 | 12.42496 | 0.002419146 |\n",
       "\n"
      ],
      "text/plain": [
       "  Res.Df RSS      Df Sum of Sq F        Pr(>F)     \n",
       "1 19     319.1161 NA       NA        NA          NA\n",
       "2 18     188.7953  1 130.3208  12.42496 0.002419146"
      ]
     },
     "metadata": {},
     "output_type": "display_data"
    },
    {
     "data": {
      "text/html": [
       "<table class=\"dataframe\">\n",
       "<caption>A anova: 2 × 6</caption>\n",
       "<thead>\n",
       "\t<tr><th></th><th scope=col>Res.Df</th><th scope=col>RSS</th><th scope=col>Df</th><th scope=col>Sum of Sq</th><th scope=col>F</th><th scope=col>Pr(&gt;F)</th></tr>\n",
       "\t<tr><th></th><th scope=col>&lt;dbl&gt;</th><th scope=col>&lt;dbl&gt;</th><th scope=col>&lt;dbl&gt;</th><th scope=col>&lt;dbl&gt;</th><th scope=col>&lt;dbl&gt;</th><th scope=col>&lt;dbl&gt;</th></tr>\n",
       "</thead>\n",
       "<tbody>\n",
       "\t<tr><th scope=row>1</th><td>19</td><td>319.1161</td><td>NA</td><td>      NA</td><td>      NA</td><td>         NA</td></tr>\n",
       "\t<tr><th scope=row>2</th><td>17</td><td>178.8300</td><td> 2</td><td>140.2861</td><td>6.667967</td><td>0.007280786</td></tr>\n",
       "</tbody>\n",
       "</table>\n"
      ],
      "text/latex": [
       "A anova: 2 × 6\n",
       "\\begin{tabular}{r|llllll}\n",
       "  & Res.Df & RSS & Df & Sum of Sq & F & Pr(>F)\\\\\n",
       "  & <dbl> & <dbl> & <dbl> & <dbl> & <dbl> & <dbl>\\\\\n",
       "\\hline\n",
       "\t1 & 19 & 319.1161 & NA &       NA &       NA &          NA\\\\\n",
       "\t2 & 17 & 178.8300 &  2 & 140.2861 & 6.667967 & 0.007280786\\\\\n",
       "\\end{tabular}\n"
      ],
      "text/markdown": [
       "\n",
       "A anova: 2 × 6\n",
       "\n",
       "| <!--/--> | Res.Df &lt;dbl&gt; | RSS &lt;dbl&gt; | Df &lt;dbl&gt; | Sum of Sq &lt;dbl&gt; | F &lt;dbl&gt; | Pr(&gt;F) &lt;dbl&gt; |\n",
       "|---|---|---|---|---|---|---|\n",
       "| 1 | 19 | 319.1161 | NA |       NA |       NA |          NA |\n",
       "| 2 | 17 | 178.8300 |  2 | 140.2861 | 6.667967 | 0.007280786 |\n",
       "\n"
      ],
      "text/plain": [
       "  Res.Df RSS      Df Sum of Sq F        Pr(>F)     \n",
       "1 19     319.1161 NA       NA        NA          NA\n",
       "2 17     178.8300  2 140.2861  6.667967 0.007280786"
      ]
     },
     "metadata": {},
     "output_type": "display_data"
    },
    {
     "data": {
      "text/html": [
       "<table class=\"dataframe\">\n",
       "<caption>A anova: 2 × 6</caption>\n",
       "<thead>\n",
       "\t<tr><th></th><th scope=col>Res.Df</th><th scope=col>RSS</th><th scope=col>Df</th><th scope=col>Sum of Sq</th><th scope=col>F</th><th scope=col>Pr(&gt;F)</th></tr>\n",
       "\t<tr><th></th><th scope=col>&lt;dbl&gt;</th><th scope=col>&lt;dbl&gt;</th><th scope=col>&lt;dbl&gt;</th><th scope=col>&lt;dbl&gt;</th><th scope=col>&lt;dbl&gt;</th><th scope=col>&lt;dbl&gt;</th></tr>\n",
       "</thead>\n",
       "<tbody>\n",
       "\t<tr><th scope=row>1</th><td>18</td><td>188.7953</td><td>NA</td><td>      NA</td><td>       NA</td><td>       NA</td></tr>\n",
       "\t<tr><th scope=row>2</th><td>17</td><td>178.8300</td><td> 1</td><td>9.965372</td><td>0.9473319</td><td>0.3440461</td></tr>\n",
       "</tbody>\n",
       "</table>\n"
      ],
      "text/latex": [
       "A anova: 2 × 6\n",
       "\\begin{tabular}{r|llllll}\n",
       "  & Res.Df & RSS & Df & Sum of Sq & F & Pr(>F)\\\\\n",
       "  & <dbl> & <dbl> & <dbl> & <dbl> & <dbl> & <dbl>\\\\\n",
       "\\hline\n",
       "\t1 & 18 & 188.7953 & NA &       NA &        NA &        NA\\\\\n",
       "\t2 & 17 & 178.8300 &  1 & 9.965372 & 0.9473319 & 0.3440461\\\\\n",
       "\\end{tabular}\n"
      ],
      "text/markdown": [
       "\n",
       "A anova: 2 × 6\n",
       "\n",
       "| <!--/--> | Res.Df &lt;dbl&gt; | RSS &lt;dbl&gt; | Df &lt;dbl&gt; | Sum of Sq &lt;dbl&gt; | F &lt;dbl&gt; | Pr(&gt;F) &lt;dbl&gt; |\n",
       "|---|---|---|---|---|---|---|\n",
       "| 1 | 18 | 188.7953 | NA |       NA |        NA |        NA |\n",
       "| 2 | 17 | 178.8300 |  1 | 9.965372 | 0.9473319 | 0.3440461 |\n",
       "\n"
      ],
      "text/plain": [
       "  Res.Df RSS      Df Sum of Sq F         Pr(>F)   \n",
       "1 18     188.7953 NA       NA         NA        NA\n",
       "2 17     178.8300  1 9.965372  0.9473319 0.3440461"
      ]
     },
     "metadata": {},
     "output_type": "display_data"
    },
    {
     "data": {
      "text/html": [
       "<table class=\"dataframe\">\n",
       "<caption>A anova: 2 × 6</caption>\n",
       "<thead>\n",
       "\t<tr><th></th><th scope=col>Res.Df</th><th scope=col>RSS</th><th scope=col>Df</th><th scope=col>Sum of Sq</th><th scope=col>F</th><th scope=col>Pr(&gt;F)</th></tr>\n",
       "\t<tr><th></th><th scope=col>&lt;dbl&gt;</th><th scope=col>&lt;dbl&gt;</th><th scope=col>&lt;dbl&gt;</th><th scope=col>&lt;dbl&gt;</th><th scope=col>&lt;dbl&gt;</th><th scope=col>&lt;dbl&gt;</th></tr>\n",
       "</thead>\n",
       "<tbody>\n",
       "\t<tr><th scope=row>1</th><td>19</td><td>483.1506</td><td>NA</td><td>      NA</td><td>       NA</td><td>       NA</td></tr>\n",
       "\t<tr><th scope=row>2</th><td>18</td><td>475.0580</td><td> 1</td><td>8.092597</td><td>0.3066294</td><td>0.5865696</td></tr>\n",
       "</tbody>\n",
       "</table>\n"
      ],
      "text/latex": [
       "A anova: 2 × 6\n",
       "\\begin{tabular}{r|llllll}\n",
       "  & Res.Df & RSS & Df & Sum of Sq & F & Pr(>F)\\\\\n",
       "  & <dbl> & <dbl> & <dbl> & <dbl> & <dbl> & <dbl>\\\\\n",
       "\\hline\n",
       "\t1 & 19 & 483.1506 & NA &       NA &        NA &        NA\\\\\n",
       "\t2 & 18 & 475.0580 &  1 & 8.092597 & 0.3066294 & 0.5865696\\\\\n",
       "\\end{tabular}\n"
      ],
      "text/markdown": [
       "\n",
       "A anova: 2 × 6\n",
       "\n",
       "| <!--/--> | Res.Df &lt;dbl&gt; | RSS &lt;dbl&gt; | Df &lt;dbl&gt; | Sum of Sq &lt;dbl&gt; | F &lt;dbl&gt; | Pr(&gt;F) &lt;dbl&gt; |\n",
       "|---|---|---|---|---|---|---|\n",
       "| 1 | 19 | 483.1506 | NA |       NA |        NA |        NA |\n",
       "| 2 | 18 | 475.0580 |  1 | 8.092597 | 0.3066294 | 0.5865696 |\n",
       "\n"
      ],
      "text/plain": [
       "  Res.Df RSS      Df Sum of Sq F         Pr(>F)   \n",
       "1 19     483.1506 NA       NA         NA        NA\n",
       "2 18     475.0580  1 8.092597  0.3066294 0.5865696"
      ]
     },
     "metadata": {},
     "output_type": "display_data"
    }
   ],
   "source": [
    "model1 <- lm(stack.loss ~ Air.Flow, data = stackloss)\n",
    "model2 <- lm(stack.loss ~ Air.Flow + Water.Temp, data = stackloss)\n",
    "model3 <- lm(stack.loss ~ Air.Flow + Water.Temp + Acid.Conc., data = stackloss)\n",
    "model4 <- lm(stack.loss ~ Water.Temp, data = stackloss)\n",
    "model5 <- lm(stack.loss ~ Water.Temp + Acid.Conc., data = stackloss)\n",
    "anova(model1, model2)\n",
    "anova(model1, model3)\n",
    "anova(model2, model3)\n",
    "anova(model4, model5)"
   ]
  },
  {
   "cell_type": "code",
   "execution_count": 222,
   "metadata": {},
   "outputs": [
    {
     "data": {
      "text/plain": [
       "\n",
       "Call:\n",
       "lm(formula = stack.loss ~ Air.Flow, data = stackloss)\n",
       "\n",
       "Residuals:\n",
       "     Min       1Q   Median       3Q      Max \n",
       "-12.2896  -1.1272  -0.0459   1.1166   8.8728 \n",
       "\n",
       "Coefficients:\n",
       "             Estimate Std. Error t value Pr(>|t|)    \n",
       "(Intercept) -44.13202    6.10586  -7.228 7.31e-07 ***\n",
       "Air.Flow      1.02031    0.09995  10.208 3.77e-09 ***\n",
       "---\n",
       "Signif. codes:  0 ‘***’ 0.001 ‘**’ 0.01 ‘*’ 0.05 ‘.’ 0.1 ‘ ’ 1\n",
       "\n",
       "Residual standard error: 4.098 on 19 degrees of freedom\n",
       "Multiple R-squared:  0.8458,\tAdjusted R-squared:  0.8377 \n",
       "F-statistic: 104.2 on 1 and 19 DF,  p-value: 3.774e-09\n"
      ]
     },
     "metadata": {},
     "output_type": "display_data"
    }
   ],
   "source": [
    "summary(model1)"
   ]
  },
  {
   "cell_type": "code",
   "execution_count": 227,
   "metadata": {},
   "outputs": [
    {
     "ename": "ERROR",
     "evalue": "Error in is.finite(x): default method not implemented for type 'list'\n",
     "output_type": "error",
     "traceback": [
      "Error in is.finite(x): default method not implemented for type 'list'\nTraceback:\n",
      "1. var.test(model3, rbind(0, 0, 0, 1))",
      "2. var.test.default(model3, rbind(0, 0, 0, 1))"
     ]
    }
   ],
   "source": [
    "var.test(model3, rbind(0,0,0,1))"
   ]
  },
  {
   "cell_type": "code",
   "execution_count": null,
   "metadata": {},
   "outputs": [],
   "source": []
  }
 ],
 "metadata": {
  "kernelspec": {
   "display_name": "R",
   "language": "R",
   "name": "ir"
  },
  "language_info": {
   "codemirror_mode": "r",
   "file_extension": ".r",
   "mimetype": "text/x-r-source",
   "name": "R",
   "pygments_lexer": "r",
   "version": "4.2.0"
  }
 },
 "nbformat": 4,
 "nbformat_minor": 4
}
