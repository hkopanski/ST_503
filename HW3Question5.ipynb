{
 "cells": [
  {
   "cell_type": "code",
   "execution_count": 1,
   "metadata": {},
   "outputs": [
    {
     "name": "stderr",
     "output_type": "stream",
     "text": [
      "Loading required package: carData\n",
      "\n",
      "\n",
      "Attaching package: ‘car’\n",
      "\n",
      "\n",
      "The following objects are masked from ‘package:faraway’:\n",
      "\n",
      "    logit, vif\n",
      "\n",
      "\n",
      "Loading required package: zoo\n",
      "\n",
      "\n",
      "Attaching package: ‘zoo’\n",
      "\n",
      "\n",
      "The following objects are masked from ‘package:base’:\n",
      "\n",
      "    as.Date, as.Date.numeric\n",
      "\n",
      "\n",
      "── \u001b[1mAttaching packages\u001b[22m ─────────────────────────────────────── tidyverse 1.3.1 ──\n",
      "\n",
      "\u001b[32m✔\u001b[39m \u001b[34mggplot2\u001b[39m 3.3.6     \u001b[32m✔\u001b[39m \u001b[34mpurrr  \u001b[39m 0.3.4\n",
      "\u001b[32m✔\u001b[39m \u001b[34mtibble \u001b[39m 3.1.7     \u001b[32m✔\u001b[39m \u001b[34mdplyr  \u001b[39m 1.0.9\n",
      "\u001b[32m✔\u001b[39m \u001b[34mtidyr  \u001b[39m 1.2.0     \u001b[32m✔\u001b[39m \u001b[34mstringr\u001b[39m 1.4.0\n",
      "\u001b[32m✔\u001b[39m \u001b[34mreadr  \u001b[39m 2.1.2     \u001b[32m✔\u001b[39m \u001b[34mforcats\u001b[39m 0.5.1\n",
      "\n",
      "── \u001b[1mConflicts\u001b[22m ────────────────────────────────────────── tidyverse_conflicts() ──\n",
      "\u001b[31m✖\u001b[39m \u001b[34mdplyr\u001b[39m::\u001b[32mfilter()\u001b[39m masks \u001b[34mstats\u001b[39m::filter()\n",
      "\u001b[31m✖\u001b[39m \u001b[34mdplyr\u001b[39m::\u001b[32mlag()\u001b[39m    masks \u001b[34mstats\u001b[39m::lag()\n",
      "\u001b[31m✖\u001b[39m \u001b[34mdplyr\u001b[39m::\u001b[32mrecode()\u001b[39m masks \u001b[34mcar\u001b[39m::recode()\n",
      "\u001b[31m✖\u001b[39m \u001b[34mdplyr\u001b[39m::\u001b[32mselect()\u001b[39m masks \u001b[34mMASS\u001b[39m::select()\n",
      "\u001b[31m✖\u001b[39m \u001b[34mpurrr\u001b[39m::\u001b[32msome()\u001b[39m   masks \u001b[34mcar\u001b[39m::some()\n",
      "\n",
      "\n",
      "Attaching package: ‘nlme’\n",
      "\n",
      "\n",
      "The following object is masked from ‘package:dplyr’:\n",
      "\n",
      "    collapse\n",
      "\n",
      "\n"
     ]
    }
   ],
   "source": [
    "library(faraway)\n",
    "library(car)\n",
    "library(MASS)\n",
    "library(lmtest)\n",
    "library(tidyverse)\n",
    "library(nlme)"
   ]
  },
  {
   "cell_type": "code",
   "execution_count": 2,
   "metadata": {},
   "outputs": [
    {
     "name": "stderr",
     "output_type": "stream",
     "text": [
      "\n",
      "\u001b[36m──\u001b[39m \u001b[1mColumn specification\u001b[22m \u001b[36m────────────────────────────────────────────────────────\u001b[39m\n",
      "cols(\n",
      "  Rep = \u001b[32mcol_double()\u001b[39m,\n",
      "  Software = \u001b[32mcol_double()\u001b[39m,\n",
      "  SalesLastQuarter = \u001b[32mcol_double()\u001b[39m,\n",
      "  SalesThisQuarter = \u001b[32mcol_double()\u001b[39m\n",
      ")\n",
      "\n"
     ]
    }
   ],
   "source": [
    "df_software <- read_table(\"software_sales.txt\") \n",
    "df_software$Software <- as.factor(df_software$Software)"
   ]
  },
  {
   "cell_type": "code",
   "execution_count": 3,
   "metadata": {},
   "outputs": [
    {
     "data": {
      "text/plain": [
       "\n",
       "Call:\n",
       "lm(formula = SalesThisQuarter ~ . - SalesLastQuarter - Rep, data = df_software)\n",
       "\n",
       "Residuals:\n",
       "    Min      1Q  Median      3Q     Max \n",
       "-19.583  -6.833   1.417   7.583  32.417 \n",
       "\n",
       "Coefficients:\n",
       "            Estimate Std. Error t value Pr(>|t|)    \n",
       "(Intercept)   81.583      3.281  24.866   <2e-16 ***\n",
       "Software2     -2.000      4.640  -0.431    0.669    \n",
       "Software3     -7.667      4.640  -1.652    0.108    \n",
       "---\n",
       "Signif. codes:  0 ‘***’ 0.001 ‘**’ 0.01 ‘*’ 0.05 ‘.’ 0.1 ‘ ’ 1\n",
       "\n",
       "Residual standard error: 11.37 on 33 degrees of freedom\n",
       "Multiple R-squared:  0.08176,\tAdjusted R-squared:  0.02611 \n",
       "F-statistic: 1.469 on 2 and 33 DF,  p-value: 0.2448\n"
      ]
     },
     "metadata": {},
     "output_type": "display_data"
    }
   ],
   "source": [
    "#5A\n",
    "sw_model1 <- lm(SalesThisQuarter ~ . - SalesLastQuarter - Rep, data = df_software)\n",
    "summary(sw_model1)"
   ]
  },
  {
   "cell_type": "markdown",
   "metadata": {},
   "source": [
    "y = 81.6 - 2.00 $x_1$ - 7.67 $x_2$   \n",
    "where:    \n",
    "$x_1$ -> Whether Software 2 was used  \n",
    "$x_2$ -> Whether Software 3 was used \n",
    "\n",
    "Part i)\n",
    "\n",
    "$E(y | x_1 = 1, x_2 = 0) = (81.6 - 2.00) - 7.67 * 0 = 79.42 $   \n",
    "$E(y | x_1 = 0, x_2 = 1) = (81.6 - 7.67) - 2.00 * 0 = 73.93 $ "
   ]
  },
  {
   "cell_type": "code",
   "execution_count": 4,
   "metadata": {},
   "outputs": [
    {
     "data": {
      "text/html": [
       "<table class=\"dataframe\">\n",
       "<caption>A anova: 2 × 5</caption>\n",
       "<thead>\n",
       "\t<tr><th></th><th scope=col>Df</th><th scope=col>Sum Sq</th><th scope=col>Mean Sq</th><th scope=col>F value</th><th scope=col>Pr(&gt;F)</th></tr>\n",
       "\t<tr><th></th><th scope=col>&lt;int&gt;</th><th scope=col>&lt;dbl&gt;</th><th scope=col>&lt;dbl&gt;</th><th scope=col>&lt;dbl&gt;</th><th scope=col>&lt;dbl&gt;</th></tr>\n",
       "</thead>\n",
       "<tbody>\n",
       "\t<tr><th scope=row>Software</th><td> 2</td><td> 379.5556</td><td>189.7778</td><td>1.469161</td><td>0.2447802</td></tr>\n",
       "\t<tr><th scope=row>Residuals</th><td>33</td><td>4262.7500</td><td>129.1742</td><td>      NA</td><td>       NA</td></tr>\n",
       "</tbody>\n",
       "</table>\n"
      ],
      "text/latex": [
       "A anova: 2 × 5\n",
       "\\begin{tabular}{r|lllll}\n",
       "  & Df & Sum Sq & Mean Sq & F value & Pr(>F)\\\\\n",
       "  & <int> & <dbl> & <dbl> & <dbl> & <dbl>\\\\\n",
       "\\hline\n",
       "\tSoftware &  2 &  379.5556 & 189.7778 & 1.469161 & 0.2447802\\\\\n",
       "\tResiduals & 33 & 4262.7500 & 129.1742 &       NA &        NA\\\\\n",
       "\\end{tabular}\n"
      ],
      "text/markdown": [
       "\n",
       "A anova: 2 × 5\n",
       "\n",
       "| <!--/--> | Df &lt;int&gt; | Sum Sq &lt;dbl&gt; | Mean Sq &lt;dbl&gt; | F value &lt;dbl&gt; | Pr(&gt;F) &lt;dbl&gt; |\n",
       "|---|---|---|---|---|---|\n",
       "| Software |  2 |  379.5556 | 189.7778 | 1.469161 | 0.2447802 |\n",
       "| Residuals | 33 | 4262.7500 | 129.1742 |       NA |        NA |\n",
       "\n"
      ],
      "text/plain": [
       "          Df Sum Sq    Mean Sq  F value  Pr(>F)   \n",
       "Software   2  379.5556 189.7778 1.469161 0.2447802\n",
       "Residuals 33 4262.7500 129.1742       NA        NA"
      ]
     },
     "metadata": {},
     "output_type": "display_data"
    },
    {
     "data": {
      "text/html": [
       "'Variance explained by the software is 0.082'"
      ],
      "text/latex": [
       "'Variance explained by the software is 0.082'"
      ],
      "text/markdown": [
       "'Variance explained by the software is 0.082'"
      ],
      "text/plain": [
       "[1] \"Variance explained by the software is 0.082\""
      ]
     },
     "metadata": {},
     "output_type": "display_data"
    }
   ],
   "source": [
    "# Part ii)\n",
    "anova(sw_model1)\n",
    "\n",
    "sprintf(\"Variance explained by the software is %0.3f\", (anova(sw_model1)[1,2] / sum(anova(sw_model1)[,2])))"
   ]
  },
  {
   "cell_type": "markdown",
   "metadata": {},
   "source": [
    "*Part iii)*\n",
    "\n",
    "$H_0$ states that software has no effect on sales.  \n",
    "$H_A$ states that software does have an effect on sales.\n",
    "\n",
    "The *f statistic* given from the anova table, 1.47, and the corresponding *p value*, 0.25, indicate that we do not have enough evidence to reject the null hypothesis at the 0.05 significance level."
   ]
  },
  {
   "cell_type": "code",
   "execution_count": 5,
   "metadata": {},
   "outputs": [
    {
     "data": {
      "text/plain": [
       "\n",
       "Call:\n",
       "lm(formula = SalesThisQuarter ~ . - Rep, data = df_software)\n",
       "\n",
       "Residuals:\n",
       "    Min      1Q  Median      3Q     Max \n",
       "-18.974  -4.194   0.554   3.536  16.049 \n",
       "\n",
       "Coefficients:\n",
       "                 Estimate Std. Error t value Pr(>|t|)    \n",
       "(Intercept)      -36.4423    16.4223  -2.219   0.0337 *  \n",
       "Software2          0.7535     2.9249   0.258   0.7984    \n",
       "Software3         -1.2835     3.0311  -0.423   0.6748    \n",
       "SalesLastQuarter   1.5019     0.2073   7.244 3.14e-08 ***\n",
       "---\n",
       "Signif. codes:  0 ‘***’ 0.001 ‘**’ 0.01 ‘*’ 0.05 ‘.’ 0.1 ‘ ’ 1\n",
       "\n",
       "Residual standard error: 7.104 on 32 degrees of freedom\n",
       "Multiple R-squared:  0.6521,\tAdjusted R-squared:  0.6195 \n",
       "F-statistic:    20 on 3 and 32 DF,  p-value: 1.741e-07\n"
      ]
     },
     "metadata": {},
     "output_type": "display_data"
    }
   ],
   "source": [
    "#5B\n",
    "sw_model2 <- lm(SalesThisQuarter ~ . -Rep, data = df_software)\n",
    "summary(sw_model2)"
   ]
  },
  {
   "cell_type": "markdown",
   "metadata": {},
   "source": [
    "part i)\n",
    "\n",
    "y = -36.44 + 0.754 $x_1$ - 1.284 $x_2$ + 1.502 $x_3$    \n",
    "where:    \n",
    "$x_1$ -> Whether Software 2 was used  \n",
    "$x_2$ -> Whether Software 3 was used  \n",
    "$x_3$ -> Sales from last quarter\n",
    "\n",
    "Part i)\n",
    "\n",
    "$E(y | x_1 = 1, x_2 = 0) = (-36.44 + 0.754) - 1.284 * 0 + 1.502 x_3 = -35.69 + 1.502 x_3$   \n",
    "$E(y | x_1 = 0, x_2 = 1) = (-36.44 - 1.284) + 0.754 * 0 + 1.502 x_3 = -37.72 + 1.502 x_3$ "
   ]
  },
  {
   "cell_type": "code",
   "execution_count": 6,
   "metadata": {},
   "outputs": [
    {
     "data": {
      "text/html": [
       "<table class=\"dataframe\">\n",
       "<caption>A anova: 3 × 5</caption>\n",
       "<thead>\n",
       "\t<tr><th></th><th scope=col>Df</th><th scope=col>Sum Sq</th><th scope=col>Mean Sq</th><th scope=col>F value</th><th scope=col>Pr(&gt;F)</th></tr>\n",
       "\t<tr><th></th><th scope=col>&lt;int&gt;</th><th scope=col>&lt;dbl&gt;</th><th scope=col>&lt;dbl&gt;</th><th scope=col>&lt;dbl&gt;</th><th scope=col>&lt;dbl&gt;</th></tr>\n",
       "</thead>\n",
       "<tbody>\n",
       "\t<tr><th scope=row>Software</th><td> 2</td><td> 379.5556</td><td> 189.77778</td><td> 3.760604</td><td>3.412843e-02</td></tr>\n",
       "\t<tr><th scope=row>SalesLastQuarter</th><td> 1</td><td>2647.8793</td><td>2647.87931</td><td>52.469921</td><td>3.140853e-08</td></tr>\n",
       "\t<tr><th scope=row>Residuals</th><td>32</td><td>1614.8707</td><td>  50.46471</td><td>       NA</td><td>          NA</td></tr>\n",
       "</tbody>\n",
       "</table>\n"
      ],
      "text/latex": [
       "A anova: 3 × 5\n",
       "\\begin{tabular}{r|lllll}\n",
       "  & Df & Sum Sq & Mean Sq & F value & Pr(>F)\\\\\n",
       "  & <int> & <dbl> & <dbl> & <dbl> & <dbl>\\\\\n",
       "\\hline\n",
       "\tSoftware &  2 &  379.5556 &  189.77778 &  3.760604 & 3.412843e-02\\\\\n",
       "\tSalesLastQuarter &  1 & 2647.8793 & 2647.87931 & 52.469921 & 3.140853e-08\\\\\n",
       "\tResiduals & 32 & 1614.8707 &   50.46471 &        NA &           NA\\\\\n",
       "\\end{tabular}\n"
      ],
      "text/markdown": [
       "\n",
       "A anova: 3 × 5\n",
       "\n",
       "| <!--/--> | Df &lt;int&gt; | Sum Sq &lt;dbl&gt; | Mean Sq &lt;dbl&gt; | F value &lt;dbl&gt; | Pr(&gt;F) &lt;dbl&gt; |\n",
       "|---|---|---|---|---|---|\n",
       "| Software |  2 |  379.5556 |  189.77778 |  3.760604 | 3.412843e-02 |\n",
       "| SalesLastQuarter |  1 | 2647.8793 | 2647.87931 | 52.469921 | 3.140853e-08 |\n",
       "| Residuals | 32 | 1614.8707 |   50.46471 |        NA |           NA |\n",
       "\n"
      ],
      "text/plain": [
       "                 Df Sum Sq    Mean Sq    F value   Pr(>F)      \n",
       "Software          2  379.5556  189.77778  3.760604 3.412843e-02\n",
       "SalesLastQuarter  1 2647.8793 2647.87931 52.469921 3.140853e-08\n",
       "Residuals        32 1614.8707   50.46471        NA           NA"
      ]
     },
     "metadata": {},
     "output_type": "display_data"
    },
    {
     "data": {
      "text/html": [
       "'Variance explained by the software is 0.082'"
      ],
      "text/latex": [
       "'Variance explained by the software is 0.082'"
      ],
      "text/markdown": [
       "'Variance explained by the software is 0.082'"
      ],
      "text/plain": [
       "[1] \"Variance explained by the software is 0.082\""
      ]
     },
     "metadata": {},
     "output_type": "display_data"
    }
   ],
   "source": [
    "anova(sw_model2)\n",
    "\n",
    "sprintf(\"Variance explained by the software is %0.3f\", (anova(sw_model2)[1,2] / sum(anova(sw_model2)[,2])))"
   ]
  },
  {
   "cell_type": "markdown",
   "metadata": {},
   "source": [
    "$H_0$ states that software has no effect on sales.  \n",
    "$H_A$ states that software does have an effect on sales.\n",
    "\n",
    "The *f statistic* given from the anova table, 3.76, and the corresponding *p value*, 0.0341, indicates that we do have enough evidence to reject the null hypothesis at the 0.05 significance level."
   ]
  },
  {
   "cell_type": "code",
   "execution_count": 9,
   "metadata": {},
   "outputs": [
    {
     "data": {
      "text/plain": [
       "\n",
       "Call:\n",
       "lm(formula = SalesThisQuarter ~ Software + SalesLastQuarter:Software + \n",
       "    SalesLastQuarter, data = df_software)\n",
       "\n",
       "Residuals:\n",
       "    Min      1Q  Median      3Q     Max \n",
       "-9.6222 -3.9426  0.8822  2.8198 11.7895 \n",
       "\n",
       "Coefficients:\n",
       "                           Estimate Std. Error t value Pr(>|t|)    \n",
       "(Intercept)                -92.2593    20.6075  -4.477 0.000102 ***\n",
       "Software2                  144.6516    31.9049   4.534 8.66e-05 ***\n",
       "Software3                   48.1097    29.6808   1.621 0.115504    \n",
       "SalesLastQuarter             2.2122     0.2614   8.462 1.92e-09 ***\n",
       "Software2:SalesLastQuarter  -1.8579     0.4106  -4.525 8.88e-05 ***\n",
       "Software3:SalesLastQuarter  -0.6239     0.3879  -1.609 0.118200    \n",
       "---\n",
       "Signif. codes:  0 ‘***’ 0.001 ‘**’ 0.01 ‘*’ 0.05 ‘.’ 0.1 ‘ ’ 1\n",
       "\n",
       "Residual standard error: 5.649 on 30 degrees of freedom\n",
       "Multiple R-squared:  0.7938,\tAdjusted R-squared:  0.7594 \n",
       "F-statistic:  23.1 on 5 and 30 DF,  p-value: 1.849e-09\n"
      ]
     },
     "metadata": {},
     "output_type": "display_data"
    }
   ],
   "source": [
    "#5C\n",
    "sw_model3 <- lm(SalesThisQuarter ~ Software + SalesLastQuarter:Software + SalesLastQuarter, data = df_software)\n",
    "summary(sw_model3)"
   ]
  },
  {
   "cell_type": "markdown",
   "metadata": {},
   "source": [
    "y = -36.22 + 1.504 $x_1$ + 1.504 $x_2$ + 1.482 $x_3$  \n",
    "where:    \n",
    "$x_1$ -> Interaction term between sales last quarter and software 1    \n",
    "$x_2$ -> Interaction term between sales last quarter and software 2  \n",
    "$x_3$ -> Interaction term between sales last quarter and software 4  \n",
    "\n",
    "Part i)\n",
    "\n",
    "$E(y | x_1 = 1, x_2 = 0, x_3 = 0) = (-36.22 + 1.504) - 7.67 * 0 = -34.72 $   \n",
    "$E(y | x_1 = 0, x_2 = 1, x_3 = 0) = (-36.22 + 1.504) - 2.00 * 0 = -34.72 $  \n",
    "$E(y | x_1 = 0, x_2 = 0, x_3 = 1) = (-36.22 + 1.482) - 2.00 * 0 = -34.74$ "
   ]
  },
  {
   "cell_type": "code",
   "execution_count": 8,
   "metadata": {},
   "outputs": [
    {
     "data": {
      "text/plain": [
       "\n",
       "\n",
       "| Res.Df|      RSS| Df| Sum of Sq|        F|    Pr(>F)|\n",
       "|------:|--------:|--:|---------:|--------:|---------:|\n",
       "|     35| 4642.306| NA|        NA|       NA|        NA|\n",
       "|     33| 4262.750|  2|  379.5556| 1.469161| 0.2447802|"
      ]
     },
     "metadata": {},
     "output_type": "display_data"
    },
    {
     "data": {
      "text/plain": [
       "\n",
       "\n",
       "|          | Df|    Sum Sq|  Mean Sq|  F value|    Pr(>F)|\n",
       "|:---------|--:|---------:|--------:|--------:|---------:|\n",
       "|Software  |  2|  379.5556| 189.7778| 1.469161| 0.2447802|\n",
       "|Residuals | 33| 4262.7500| 129.1742|       NA|        NA|"
      ]
     },
     "metadata": {},
     "output_type": "display_data"
    },
    {
     "data": {
      "text/plain": [
       "\n",
       "\n",
       "| df_vector|        SS|       MS|   F_stat|   p_value|\n",
       "|---------:|---------:|--------:|--------:|---------:|\n",
       "|         2|  379.5556| 189.7778| 1.469161| 0.2447802|\n",
       "|        33| 4262.7500| 129.1742|       NA|        NA|\n",
       "|        35| 4642.3056|       NA|       NA|        NA|"
      ]
     },
     "metadata": {},
     "output_type": "display_data"
    }
   ],
   "source": [
    "null_model1 <- lm(SalesThisQuarter ~ NULL, data = df_software)\n",
    "knitr::kable(anova(null_model1, sw_model1))\n",
    "knitr::kable(anova(sw_model1))\n",
    "\n",
    "SST <- sum((df_software$SalesThisQuarter - mean(df_software$SalesThisQuarter))^2)\n",
    "SSR <- sum((sw_model1$fitted.values - mean(df_software$SalesThisQuarter))^2)\n",
    "SSE <- sum((df_software$SalesThisQuarter - sw_model1$fitted.values)^2)\n",
    "MSR <- SSR/(sw_model1$rank - 1)\n",
    "MSE <- SSE/(nrow(df_software) - sw_model1$rank)\n",
    "df_vector <- c(sw_model1$rank - 1, nrow(df_software) - sw_model1$rank, nrow(df_software) - 1)\n",
    "SS <- c(SSR, SSE, SST)\n",
    "\n",
    "anova_table <- as_tibble(cbind(df_vector, SS))\n",
    "\n",
    "anova_table <- anova_table %>% mutate(MS = SS/df_vector)\n",
    "\n",
    "anova_table[3,3] <- NA\n",
    "\n",
    "F_stat <- c(as.numeric(anova_table[1,3] / anova_table[2,3]), NA, NA)\n",
    "\n",
    "p_value <- c(1 - (pf(F_stat[1], (sw_model1$rank - 1) , (nrow(df_software) - sw_model1$rank))), NA, NA)\n",
    "\n",
    "anova_table <- cbind(anova_table, F_stat, p_value)\n",
    "\n",
    "knitr::kable(anova_table)"
   ]
  },
  {
   "cell_type": "code",
   "execution_count": null,
   "metadata": {},
   "outputs": [],
   "source": []
  }
 ],
 "metadata": {
  "kernelspec": {
   "display_name": "R",
   "language": "R",
   "name": "ir"
  },
  "language_info": {
   "codemirror_mode": "r",
   "file_extension": ".r",
   "mimetype": "text/x-r-source",
   "name": "R",
   "pygments_lexer": "r",
   "version": "4.1.3"
  }
 },
 "nbformat": 4,
 "nbformat_minor": 4
}
